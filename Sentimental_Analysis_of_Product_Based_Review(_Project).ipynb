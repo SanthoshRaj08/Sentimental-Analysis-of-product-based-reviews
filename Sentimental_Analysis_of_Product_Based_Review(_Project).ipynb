{
  "cells": [
    {
      "cell_type": "markdown",
      "metadata": {
        "id": "view-in-github",
        "colab_type": "text"
      },
      "source": [
        "<a href=\"https://colab.research.google.com/github/SanthoshRaj08/Sentimental-Analysis-of-product-based-reviews/blob/main/Sentimental_Analysis_of_Product_Based_Review(_Project).ipynb\" target=\"_parent\"><img src=\"https://colab.research.google.com/assets/colab-badge.svg\" alt=\"Open In Colab\"/></a>"
      ]
    },
    {
      "cell_type": "code",
      "execution_count": null,
      "metadata": {
        "colab": {
          "base_uri": "https://localhost:8080/"
        },
        "id": "FLo9TN1XUzO9",
        "outputId": "27c7153e-1ffa-4028-93e5-8c0a91f7fdb4"
      },
      "outputs": [
        {
          "name": "stdout",
          "output_type": "stream",
          "text": [
            "Requirement already satisfied: nltk in /usr/local/lib/python3.10/dist-packages (3.8.1)\n",
            "Requirement already satisfied: click in /usr/local/lib/python3.10/dist-packages (from nltk) (8.1.7)\n",
            "Requirement already satisfied: joblib in /usr/local/lib/python3.10/dist-packages (from nltk) (1.3.2)\n",
            "Requirement already satisfied: regex>=2021.8.3 in /usr/local/lib/python3.10/dist-packages (from nltk) (2023.12.25)\n",
            "Requirement already satisfied: tqdm in /usr/local/lib/python3.10/dist-packages (from nltk) (4.66.2)\n"
          ]
        }
      ],
      "source": [
        "pip install nltk"
      ]
    },
    {
      "cell_type": "code",
      "execution_count": null,
      "metadata": {
        "id": "RNBdwh70f__Y"
      },
      "outputs": [],
      "source": [
        "import pandas as pd\n",
        "import numpy as np\n",
        "import matplotlib.pyplot as plt\n",
        "import seaborn as sns\n",
        "import re\n",
        "import nltk\n",
        "from sklearn.model_selection import train_test_split\n",
        "from sklearn.feature_extraction.text import TfidfVectorizer\n",
        "from sklearn.pipeline import Pipeline\n",
        "from sklearn.metrics import accuracy_score, confusion_matrix, classification_report,ConfusionMatrixDisplay\n",
        "from sklearn.linear_model import LogisticRegression\n",
        "from nltk.corpus import stopwords\n",
        "from sklearn.ensemble import RandomForestClassifier\n",
        "from bs4 import BeautifulSoup\n",
        "from nltk.corpus import stopwords"
      ]
    },
    {
      "cell_type": "code",
      "execution_count": null,
      "metadata": {
        "id": "3czJX2lGgIRT"
      },
      "outputs": [],
      "source": [
        "data = pd.read_csv('amazon.csv')"
      ]
    },
    {
      "cell_type": "code",
      "execution_count": null,
      "metadata": {
        "colab": {
          "base_uri": "https://localhost:8080/",
          "height": 538
        },
        "id": "fiLVt_o5U4kn",
        "outputId": "2ff03d19-b1cb-49ed-ffe9-7db675501e3c"
      },
      "outputs": [
        {
          "data": {
            "application/vnd.google.colaboratory.intrinsic+json": {
              "summary": "{\n  \"name\": \"data\",\n  \"rows\": 19880,\n  \"fields\": [\n    {\n      \"column\": \"marketplace\",\n      \"properties\": {\n        \"dtype\": \"category\",\n        \"num_unique_values\": 1,\n        \"samples\": [\n          \"US\"\n        ],\n        \"semantic_type\": \"\",\n        \"description\": \"\"\n      }\n    },\n    {\n      \"column\": \"customer_id\",\n      \"properties\": {\n        \"dtype\": \"number\",\n        \"std\": 16020324,\n        \"min\": 11346,\n        \"max\": 53093510,\n        \"num_unique_values\": 19880,\n        \"samples\": [\n          29986562\n        ],\n        \"semantic_type\": \"\",\n        \"description\": \"\"\n      }\n    },\n    {\n      \"column\": \"review_id\",\n      \"properties\": {\n        \"dtype\": \"string\",\n        \"num_unique_values\": 19880,\n        \"samples\": [\n          \"R33CTDNTY5I8GU\"\n        ],\n        \"semantic_type\": \"\",\n        \"description\": \"\"\n      }\n    },\n    {\n      \"column\": \"product_id\",\n      \"properties\": {\n        \"dtype\": \"category\",\n        \"num_unique_values\": 21,\n        \"samples\": [\n          \"B00IKPX4GY\"\n        ],\n        \"semantic_type\": \"\",\n        \"description\": \"\"\n      }\n    },\n    {\n      \"column\": \"product_parent\",\n      \"properties\": {\n        \"dtype\": \"number\",\n        \"std\": 0,\n        \"min\": 2693241,\n        \"max\": 2693241,\n        \"num_unique_values\": 1,\n        \"samples\": [\n          2693241\n        ],\n        \"semantic_type\": \"\",\n        \"description\": \"\"\n      }\n    },\n    {\n      \"column\": \"product_title\",\n      \"properties\": {\n        \"dtype\": \"category\",\n        \"num_unique_values\": 1,\n        \"samples\": [\n          \"Fire HD 7, 7\\\" HD Display, Wi-Fi, 8 GB\"\n        ],\n        \"semantic_type\": \"\",\n        \"description\": \"\"\n      }\n    },\n    {\n      \"column\": \"product_category\",\n      \"properties\": {\n        \"dtype\": \"category\",\n        \"num_unique_values\": 1,\n        \"samples\": [\n          \"PC\"\n        ],\n        \"semantic_type\": \"\",\n        \"description\": \"\"\n      }\n    },\n    {\n      \"column\": \"star_rating\",\n      \"properties\": {\n        \"dtype\": \"number\",\n        \"std\": 1,\n        \"min\": 1,\n        \"max\": 5,\n        \"num_unique_values\": 5,\n        \"samples\": [\n          3\n        ],\n        \"semantic_type\": \"\",\n        \"description\": \"\"\n      }\n    },\n    {\n      \"column\": \"helpful_votes\",\n      \"properties\": {\n        \"dtype\": \"number\",\n        \"std\": 10,\n        \"min\": 0,\n        \"max\": 1305,\n        \"num_unique_values\": 27,\n        \"samples\": [\n          56\n        ],\n        \"semantic_type\": \"\",\n        \"description\": \"\"\n      }\n    },\n    {\n      \"column\": \"total_votes\",\n      \"properties\": {\n        \"dtype\": \"number\",\n        \"std\": 11,\n        \"min\": 0,\n        \"max\": 1427,\n        \"num_unique_values\": 29,\n        \"samples\": [\n          1427\n        ],\n        \"semantic_type\": \"\",\n        \"description\": \"\"\n      }\n    },\n    {\n      \"column\": \"vine\",\n      \"properties\": {\n        \"dtype\": \"category\",\n        \"num_unique_values\": 1,\n        \"samples\": [\n          \"N\"\n        ],\n        \"semantic_type\": \"\",\n        \"description\": \"\"\n      }\n    },\n    {\n      \"column\": \"verified_purchase\",\n      \"properties\": {\n        \"dtype\": \"category\",\n        \"num_unique_values\": 2,\n        \"samples\": [\n          \"N\"\n        ],\n        \"semantic_type\": \"\",\n        \"description\": \"\"\n      }\n    },\n    {\n      \"column\": \"review_headline\",\n      \"properties\": {\n        \"dtype\": \"string\",\n        \"num_unique_values\": 10516,\n        \"samples\": [\n          \"Very annoying. This one looks exactly like the last\"\n        ],\n        \"semantic_type\": \"\",\n        \"description\": \"\"\n      }\n    },\n    {\n      \"column\": \"review_body\",\n      \"properties\": {\n        \"dtype\": \"string\",\n        \"num_unique_values\": 18110,\n        \"samples\": [\n          \"Absolutely love it. This is my second Fire, the first one has given me nothing but enjoyment.\"\n        ],\n        \"semantic_type\": \"\",\n        \"description\": \"\"\n      }\n    },\n    {\n      \"column\": \"review_date\",\n      \"properties\": {\n        \"dtype\": \"object\",\n        \"num_unique_values\": 233,\n        \"samples\": [\n          \"2015-06-08\"\n        ],\n        \"semantic_type\": \"\",\n        \"description\": \"\"\n      }\n    },\n    {\n      \"column\": \"sentiment\",\n      \"properties\": {\n        \"dtype\": \"number\",\n        \"std\": 0.3716869767903311,\n        \"min\": 0.0,\n        \"max\": 1.0,\n        \"num_unique_values\": 2,\n        \"samples\": [\n          0.0\n        ],\n        \"semantic_type\": \"\",\n        \"description\": \"\"\n      }\n    }\n  ]\n}",
              "type": "dataframe",
              "variable_name": "data"
            },
            "text/html": [
              "\n",
              "  <div id=\"df-a18ef255-bcab-4e50-a90e-066aa81678a8\" class=\"colab-df-container\">\n",
              "    <div>\n",
              "<style scoped>\n",
              "    .dataframe tbody tr th:only-of-type {\n",
              "        vertical-align: middle;\n",
              "    }\n",
              "\n",
              "    .dataframe tbody tr th {\n",
              "        vertical-align: top;\n",
              "    }\n",
              "\n",
              "    .dataframe thead th {\n",
              "        text-align: right;\n",
              "    }\n",
              "</style>\n",
              "<table border=\"1\" class=\"dataframe\">\n",
              "  <thead>\n",
              "    <tr style=\"text-align: right;\">\n",
              "      <th></th>\n",
              "      <th>marketplace</th>\n",
              "      <th>customer_id</th>\n",
              "      <th>review_id</th>\n",
              "      <th>product_id</th>\n",
              "      <th>product_parent</th>\n",
              "      <th>product_title</th>\n",
              "      <th>product_category</th>\n",
              "      <th>star_rating</th>\n",
              "      <th>helpful_votes</th>\n",
              "      <th>total_votes</th>\n",
              "      <th>vine</th>\n",
              "      <th>verified_purchase</th>\n",
              "      <th>review_headline</th>\n",
              "      <th>review_body</th>\n",
              "      <th>review_date</th>\n",
              "      <th>sentiment</th>\n",
              "    </tr>\n",
              "  </thead>\n",
              "  <tbody>\n",
              "    <tr>\n",
              "      <th>0</th>\n",
              "      <td>US</td>\n",
              "      <td>11555559</td>\n",
              "      <td>R1QXC7AHHJBQ3O</td>\n",
              "      <td>B00IKPX4GY</td>\n",
              "      <td>2693241</td>\n",
              "      <td>Fire HD 7, 7\" HD Display, Wi-Fi, 8 GB</td>\n",
              "      <td>PC</td>\n",
              "      <td>5</td>\n",
              "      <td>0</td>\n",
              "      <td>0</td>\n",
              "      <td>N</td>\n",
              "      <td>Y</td>\n",
              "      <td>Five Stars</td>\n",
              "      <td>Great love it</td>\n",
              "      <td>2015-08-31</td>\n",
              "      <td>1.0</td>\n",
              "    </tr>\n",
              "    <tr>\n",
              "      <th>1</th>\n",
              "      <td>US</td>\n",
              "      <td>31469372</td>\n",
              "      <td>R175VSRV6ZETOP</td>\n",
              "      <td>B00IKPYKWG</td>\n",
              "      <td>2693241</td>\n",
              "      <td>Fire HD 7, 7\" HD Display, Wi-Fi, 8 GB</td>\n",
              "      <td>PC</td>\n",
              "      <td>3</td>\n",
              "      <td>0</td>\n",
              "      <td>0</td>\n",
              "      <td>N</td>\n",
              "      <td>N</td>\n",
              "      <td>Lots of ads Slow processing speed Occasionally...</td>\n",
              "      <td>Lots of ads&lt;br /&gt;Slow processing speed&lt;br /&gt;Oc...</td>\n",
              "      <td>2015-08-31</td>\n",
              "      <td>0.0</td>\n",
              "    </tr>\n",
              "    <tr>\n",
              "      <th>2</th>\n",
              "      <td>US</td>\n",
              "      <td>26843895</td>\n",
              "      <td>R2HRFF78MWGY19</td>\n",
              "      <td>B00IKPW0UA</td>\n",
              "      <td>2693241</td>\n",
              "      <td>Fire HD 7, 7\" HD Display, Wi-Fi, 8 GB</td>\n",
              "      <td>PC</td>\n",
              "      <td>5</td>\n",
              "      <td>0</td>\n",
              "      <td>0</td>\n",
              "      <td>N</td>\n",
              "      <td>Y</td>\n",
              "      <td>Well thought out device</td>\n",
              "      <td>Excellent unit.  The versatility of this table...</td>\n",
              "      <td>2015-08-31</td>\n",
              "      <td>1.0</td>\n",
              "    </tr>\n",
              "    <tr>\n",
              "      <th>3</th>\n",
              "      <td>US</td>\n",
              "      <td>19844868</td>\n",
              "      <td>R8Q39WPKYVSTX</td>\n",
              "      <td>B00LCHSHMS</td>\n",
              "      <td>2693241</td>\n",
              "      <td>Fire HD 7, 7\" HD Display, Wi-Fi, 8 GB</td>\n",
              "      <td>PC</td>\n",
              "      <td>4</td>\n",
              "      <td>0</td>\n",
              "      <td>0</td>\n",
              "      <td>N</td>\n",
              "      <td>N</td>\n",
              "      <td>Not all apps/games we were looking forward to ...</td>\n",
              "      <td>I bought this on Amazon Prime so I ended up bu...</td>\n",
              "      <td>2015-08-31</td>\n",
              "      <td>1.0</td>\n",
              "    </tr>\n",
              "    <tr>\n",
              "      <th>4</th>\n",
              "      <td>US</td>\n",
              "      <td>1189852</td>\n",
              "      <td>R3RL4C8YP2ZCJL</td>\n",
              "      <td>B00IKPZ5V6</td>\n",
              "      <td>2693241</td>\n",
              "      <td>Fire HD 7, 7\" HD Display, Wi-Fi, 8 GB</td>\n",
              "      <td>PC</td>\n",
              "      <td>5</td>\n",
              "      <td>0</td>\n",
              "      <td>0</td>\n",
              "      <td>N</td>\n",
              "      <td>Y</td>\n",
              "      <td>Five Stars</td>\n",
              "      <td>All Amazon products continue to meet my expect...</td>\n",
              "      <td>2015-08-31</td>\n",
              "      <td>1.0</td>\n",
              "    </tr>\n",
              "  </tbody>\n",
              "</table>\n",
              "</div>\n",
              "    <div class=\"colab-df-buttons\">\n",
              "\n",
              "  <div class=\"colab-df-container\">\n",
              "    <button class=\"colab-df-convert\" onclick=\"convertToInteractive('df-a18ef255-bcab-4e50-a90e-066aa81678a8')\"\n",
              "            title=\"Convert this dataframe to an interactive table.\"\n",
              "            style=\"display:none;\">\n",
              "\n",
              "  <svg xmlns=\"http://www.w3.org/2000/svg\" height=\"24px\" viewBox=\"0 -960 960 960\">\n",
              "    <path d=\"M120-120v-720h720v720H120Zm60-500h600v-160H180v160Zm220 220h160v-160H400v160Zm0 220h160v-160H400v160ZM180-400h160v-160H180v160Zm440 0h160v-160H620v160ZM180-180h160v-160H180v160Zm440 0h160v-160H620v160Z\"/>\n",
              "  </svg>\n",
              "    </button>\n",
              "\n",
              "  <style>\n",
              "    .colab-df-container {\n",
              "      display:flex;\n",
              "      gap: 12px;\n",
              "    }\n",
              "\n",
              "    .colab-df-convert {\n",
              "      background-color: #E8F0FE;\n",
              "      border: none;\n",
              "      border-radius: 50%;\n",
              "      cursor: pointer;\n",
              "      display: none;\n",
              "      fill: #1967D2;\n",
              "      height: 32px;\n",
              "      padding: 0 0 0 0;\n",
              "      width: 32px;\n",
              "    }\n",
              "\n",
              "    .colab-df-convert:hover {\n",
              "      background-color: #E2EBFA;\n",
              "      box-shadow: 0px 1px 2px rgba(60, 64, 67, 0.3), 0px 1px 3px 1px rgba(60, 64, 67, 0.15);\n",
              "      fill: #174EA6;\n",
              "    }\n",
              "\n",
              "    .colab-df-buttons div {\n",
              "      margin-bottom: 4px;\n",
              "    }\n",
              "\n",
              "    [theme=dark] .colab-df-convert {\n",
              "      background-color: #3B4455;\n",
              "      fill: #D2E3FC;\n",
              "    }\n",
              "\n",
              "    [theme=dark] .colab-df-convert:hover {\n",
              "      background-color: #434B5C;\n",
              "      box-shadow: 0px 1px 3px 1px rgba(0, 0, 0, 0.15);\n",
              "      filter: drop-shadow(0px 1px 2px rgba(0, 0, 0, 0.3));\n",
              "      fill: #FFFFFF;\n",
              "    }\n",
              "  </style>\n",
              "\n",
              "    <script>\n",
              "      const buttonEl =\n",
              "        document.querySelector('#df-a18ef255-bcab-4e50-a90e-066aa81678a8 button.colab-df-convert');\n",
              "      buttonEl.style.display =\n",
              "        google.colab.kernel.accessAllowed ? 'block' : 'none';\n",
              "\n",
              "      async function convertToInteractive(key) {\n",
              "        const element = document.querySelector('#df-a18ef255-bcab-4e50-a90e-066aa81678a8');\n",
              "        const dataTable =\n",
              "          await google.colab.kernel.invokeFunction('convertToInteractive',\n",
              "                                                    [key], {});\n",
              "        if (!dataTable) return;\n",
              "\n",
              "        const docLinkHtml = 'Like what you see? Visit the ' +\n",
              "          '<a target=\"_blank\" href=https://colab.research.google.com/notebooks/data_table.ipynb>data table notebook</a>'\n",
              "          + ' to learn more about interactive tables.';\n",
              "        element.innerHTML = '';\n",
              "        dataTable['output_type'] = 'display_data';\n",
              "        await google.colab.output.renderOutput(dataTable, element);\n",
              "        const docLink = document.createElement('div');\n",
              "        docLink.innerHTML = docLinkHtml;\n",
              "        element.appendChild(docLink);\n",
              "      }\n",
              "    </script>\n",
              "  </div>\n",
              "\n",
              "\n",
              "<div id=\"df-8244e94e-f081-4729-a433-155d5ddd1669\">\n",
              "  <button class=\"colab-df-quickchart\" onclick=\"quickchart('df-8244e94e-f081-4729-a433-155d5ddd1669')\"\n",
              "            title=\"Suggest charts\"\n",
              "            style=\"display:none;\">\n",
              "\n",
              "<svg xmlns=\"http://www.w3.org/2000/svg\" height=\"24px\"viewBox=\"0 0 24 24\"\n",
              "     width=\"24px\">\n",
              "    <g>\n",
              "        <path d=\"M19 3H5c-1.1 0-2 .9-2 2v14c0 1.1.9 2 2 2h14c1.1 0 2-.9 2-2V5c0-1.1-.9-2-2-2zM9 17H7v-7h2v7zm4 0h-2V7h2v10zm4 0h-2v-4h2v4z\"/>\n",
              "    </g>\n",
              "</svg>\n",
              "  </button>\n",
              "\n",
              "<style>\n",
              "  .colab-df-quickchart {\n",
              "      --bg-color: #E8F0FE;\n",
              "      --fill-color: #1967D2;\n",
              "      --hover-bg-color: #E2EBFA;\n",
              "      --hover-fill-color: #174EA6;\n",
              "      --disabled-fill-color: #AAA;\n",
              "      --disabled-bg-color: #DDD;\n",
              "  }\n",
              "\n",
              "  [theme=dark] .colab-df-quickchart {\n",
              "      --bg-color: #3B4455;\n",
              "      --fill-color: #D2E3FC;\n",
              "      --hover-bg-color: #434B5C;\n",
              "      --hover-fill-color: #FFFFFF;\n",
              "      --disabled-bg-color: #3B4455;\n",
              "      --disabled-fill-color: #666;\n",
              "  }\n",
              "\n",
              "  .colab-df-quickchart {\n",
              "    background-color: var(--bg-color);\n",
              "    border: none;\n",
              "    border-radius: 50%;\n",
              "    cursor: pointer;\n",
              "    display: none;\n",
              "    fill: var(--fill-color);\n",
              "    height: 32px;\n",
              "    padding: 0;\n",
              "    width: 32px;\n",
              "  }\n",
              "\n",
              "  .colab-df-quickchart:hover {\n",
              "    background-color: var(--hover-bg-color);\n",
              "    box-shadow: 0 1px 2px rgba(60, 64, 67, 0.3), 0 1px 3px 1px rgba(60, 64, 67, 0.15);\n",
              "    fill: var(--button-hover-fill-color);\n",
              "  }\n",
              "\n",
              "  .colab-df-quickchart-complete:disabled,\n",
              "  .colab-df-quickchart-complete:disabled:hover {\n",
              "    background-color: var(--disabled-bg-color);\n",
              "    fill: var(--disabled-fill-color);\n",
              "    box-shadow: none;\n",
              "  }\n",
              "\n",
              "  .colab-df-spinner {\n",
              "    border: 2px solid var(--fill-color);\n",
              "    border-color: transparent;\n",
              "    border-bottom-color: var(--fill-color);\n",
              "    animation:\n",
              "      spin 1s steps(1) infinite;\n",
              "  }\n",
              "\n",
              "  @keyframes spin {\n",
              "    0% {\n",
              "      border-color: transparent;\n",
              "      border-bottom-color: var(--fill-color);\n",
              "      border-left-color: var(--fill-color);\n",
              "    }\n",
              "    20% {\n",
              "      border-color: transparent;\n",
              "      border-left-color: var(--fill-color);\n",
              "      border-top-color: var(--fill-color);\n",
              "    }\n",
              "    30% {\n",
              "      border-color: transparent;\n",
              "      border-left-color: var(--fill-color);\n",
              "      border-top-color: var(--fill-color);\n",
              "      border-right-color: var(--fill-color);\n",
              "    }\n",
              "    40% {\n",
              "      border-color: transparent;\n",
              "      border-right-color: var(--fill-color);\n",
              "      border-top-color: var(--fill-color);\n",
              "    }\n",
              "    60% {\n",
              "      border-color: transparent;\n",
              "      border-right-color: var(--fill-color);\n",
              "    }\n",
              "    80% {\n",
              "      border-color: transparent;\n",
              "      border-right-color: var(--fill-color);\n",
              "      border-bottom-color: var(--fill-color);\n",
              "    }\n",
              "    90% {\n",
              "      border-color: transparent;\n",
              "      border-bottom-color: var(--fill-color);\n",
              "    }\n",
              "  }\n",
              "</style>\n",
              "\n",
              "  <script>\n",
              "    async function quickchart(key) {\n",
              "      const quickchartButtonEl =\n",
              "        document.querySelector('#' + key + ' button');\n",
              "      quickchartButtonEl.disabled = true;  // To prevent multiple clicks.\n",
              "      quickchartButtonEl.classList.add('colab-df-spinner');\n",
              "      try {\n",
              "        const charts = await google.colab.kernel.invokeFunction(\n",
              "            'suggestCharts', [key], {});\n",
              "      } catch (error) {\n",
              "        console.error('Error during call to suggestCharts:', error);\n",
              "      }\n",
              "      quickchartButtonEl.classList.remove('colab-df-spinner');\n",
              "      quickchartButtonEl.classList.add('colab-df-quickchart-complete');\n",
              "    }\n",
              "    (() => {\n",
              "      let quickchartButtonEl =\n",
              "        document.querySelector('#df-8244e94e-f081-4729-a433-155d5ddd1669 button');\n",
              "      quickchartButtonEl.style.display =\n",
              "        google.colab.kernel.accessAllowed ? 'block' : 'none';\n",
              "    })();\n",
              "  </script>\n",
              "</div>\n",
              "\n",
              "    </div>\n",
              "  </div>\n"
            ],
            "text/plain": [
              "  marketplace  customer_id       review_id  product_id  product_parent  \\\n",
              "0          US     11555559  R1QXC7AHHJBQ3O  B00IKPX4GY         2693241   \n",
              "1          US     31469372  R175VSRV6ZETOP  B00IKPYKWG         2693241   \n",
              "2          US     26843895  R2HRFF78MWGY19  B00IKPW0UA         2693241   \n",
              "3          US     19844868   R8Q39WPKYVSTX  B00LCHSHMS         2693241   \n",
              "4          US      1189852  R3RL4C8YP2ZCJL  B00IKPZ5V6         2693241   \n",
              "\n",
              "                           product_title product_category  star_rating  \\\n",
              "0  Fire HD 7, 7\" HD Display, Wi-Fi, 8 GB               PC            5   \n",
              "1  Fire HD 7, 7\" HD Display, Wi-Fi, 8 GB               PC            3   \n",
              "2  Fire HD 7, 7\" HD Display, Wi-Fi, 8 GB               PC            5   \n",
              "3  Fire HD 7, 7\" HD Display, Wi-Fi, 8 GB               PC            4   \n",
              "4  Fire HD 7, 7\" HD Display, Wi-Fi, 8 GB               PC            5   \n",
              "\n",
              "   helpful_votes  total_votes vine verified_purchase  \\\n",
              "0              0            0    N                 Y   \n",
              "1              0            0    N                 N   \n",
              "2              0            0    N                 Y   \n",
              "3              0            0    N                 N   \n",
              "4              0            0    N                 Y   \n",
              "\n",
              "                                     review_headline  \\\n",
              "0                                         Five Stars   \n",
              "1  Lots of ads Slow processing speed Occasionally...   \n",
              "2                            Well thought out device   \n",
              "3  Not all apps/games we were looking forward to ...   \n",
              "4                                         Five Stars   \n",
              "\n",
              "                                         review_body review_date  sentiment  \n",
              "0                                      Great love it  2015-08-31        1.0  \n",
              "1  Lots of ads<br />Slow processing speed<br />Oc...  2015-08-31        0.0  \n",
              "2  Excellent unit.  The versatility of this table...  2015-08-31        1.0  \n",
              "3  I bought this on Amazon Prime so I ended up bu...  2015-08-31        1.0  \n",
              "4  All Amazon products continue to meet my expect...  2015-08-31        1.0  "
            ]
          },
          "execution_count": 4,
          "metadata": {},
          "output_type": "execute_result"
        }
      ],
      "source": [
        "data.head(5)"
      ]
    },
    {
      "cell_type": "code",
      "execution_count": null,
      "metadata": {
        "colab": {
          "base_uri": "https://localhost:8080/"
        },
        "id": "Zau4cAmZU7qr",
        "outputId": "9816c05d-a26e-4217-b8ad-15c6cbd38f9c"
      },
      "outputs": [
        {
          "data": {
            "text/plain": [
              "Index(['marketplace', 'customer_id', 'review_id', 'product_id',\n",
              "       'product_parent', 'product_title', 'product_category', 'star_rating',\n",
              "       'helpful_votes', 'total_votes', 'vine', 'verified_purchase',\n",
              "       'review_headline', 'review_body', 'review_date', 'sentiment'],\n",
              "      dtype='object')"
            ]
          },
          "execution_count": 5,
          "metadata": {},
          "output_type": "execute_result"
        }
      ],
      "source": [
        "data.columns"
      ]
    },
    {
      "cell_type": "code",
      "execution_count": null,
      "metadata": {
        "colab": {
          "base_uri": "https://localhost:8080/"
        },
        "id": "Gq9Yim9QU9w1",
        "outputId": "5ab71047-52e5-482b-ad19-557b735bdf17"
      },
      "outputs": [
        {
          "name": "stdout",
          "output_type": "stream",
          "text": [
            "<class 'pandas.core.frame.DataFrame'>\n",
            "RangeIndex: 30846 entries, 0 to 30845\n",
            "Data columns (total 16 columns):\n",
            " #   Column             Non-Null Count  Dtype \n",
            "---  ------             --------------  ----- \n",
            " 0   marketplace        30846 non-null  object\n",
            " 1   customer_id        30846 non-null  int64 \n",
            " 2   review_id          30846 non-null  object\n",
            " 3   product_id         30846 non-null  object\n",
            " 4   product_parent     30846 non-null  int64 \n",
            " 5   product_title      30846 non-null  object\n",
            " 6   product_category   30846 non-null  object\n",
            " 7   star_rating        30846 non-null  int64 \n",
            " 8   helpful_votes      30846 non-null  int64 \n",
            " 9   total_votes        30846 non-null  int64 \n",
            " 10  vine               30846 non-null  object\n",
            " 11  verified_purchase  30846 non-null  object\n",
            " 12  review_headline    30846 non-null  object\n",
            " 13  review_body        30846 non-null  object\n",
            " 14  review_date        30846 non-null  object\n",
            " 15  sentiment          30846 non-null  int64 \n",
            "dtypes: int64(6), object(10)\n",
            "memory usage: 3.8+ MB\n"
          ]
        }
      ],
      "source": [
        "data.info()"
      ]
    },
    {
      "cell_type": "code",
      "execution_count": null,
      "metadata": {
        "colab": {
          "base_uri": "https://localhost:8080/",
          "height": 999
        },
        "id": "T4FxjK1zgZeI",
        "outputId": "0e9a9d19-8474-4f9d-bc13-b310b788391f"
      },
      "outputs": [
        {
          "data": {
            "application/vnd.google.colaboratory.intrinsic+json": {
              "summary": "{\n  \"name\": \"prod_hosa\",\n  \"rows\": 19880,\n  \"fields\": [\n    {\n      \"column\": \"marketplace\",\n      \"properties\": {\n        \"dtype\": \"category\",\n        \"num_unique_values\": 1,\n        \"samples\": [\n          \"US\"\n        ],\n        \"semantic_type\": \"\",\n        \"description\": \"\"\n      }\n    },\n    {\n      \"column\": \"customer_id\",\n      \"properties\": {\n        \"dtype\": \"number\",\n        \"std\": 16020324,\n        \"min\": 11346,\n        \"max\": 53093510,\n        \"num_unique_values\": 19880,\n        \"samples\": [\n          29986562\n        ],\n        \"semantic_type\": \"\",\n        \"description\": \"\"\n      }\n    },\n    {\n      \"column\": \"review_id\",\n      \"properties\": {\n        \"dtype\": \"string\",\n        \"num_unique_values\": 19880,\n        \"samples\": [\n          \"R33CTDNTY5I8GU\"\n        ],\n        \"semantic_type\": \"\",\n        \"description\": \"\"\n      }\n    },\n    {\n      \"column\": \"product_id\",\n      \"properties\": {\n        \"dtype\": \"category\",\n        \"num_unique_values\": 21,\n        \"samples\": [\n          \"B00IKPX4GY\"\n        ],\n        \"semantic_type\": \"\",\n        \"description\": \"\"\n      }\n    },\n    {\n      \"column\": \"product_parent\",\n      \"properties\": {\n        \"dtype\": \"number\",\n        \"std\": 0,\n        \"min\": 2693241,\n        \"max\": 2693241,\n        \"num_unique_values\": 1,\n        \"samples\": [\n          2693241\n        ],\n        \"semantic_type\": \"\",\n        \"description\": \"\"\n      }\n    },\n    {\n      \"column\": \"product_title\",\n      \"properties\": {\n        \"dtype\": \"category\",\n        \"num_unique_values\": 1,\n        \"samples\": [\n          \"Fire HD 7, 7\\\" HD Display, Wi-Fi, 8 GB\"\n        ],\n        \"semantic_type\": \"\",\n        \"description\": \"\"\n      }\n    },\n    {\n      \"column\": \"product_category\",\n      \"properties\": {\n        \"dtype\": \"category\",\n        \"num_unique_values\": 1,\n        \"samples\": [\n          \"PC\"\n        ],\n        \"semantic_type\": \"\",\n        \"description\": \"\"\n      }\n    },\n    {\n      \"column\": \"star_rating\",\n      \"properties\": {\n        \"dtype\": \"number\",\n        \"std\": 1,\n        \"min\": 1,\n        \"max\": 5,\n        \"num_unique_values\": 5,\n        \"samples\": [\n          3\n        ],\n        \"semantic_type\": \"\",\n        \"description\": \"\"\n      }\n    },\n    {\n      \"column\": \"helpful_votes\",\n      \"properties\": {\n        \"dtype\": \"number\",\n        \"std\": 10,\n        \"min\": 0,\n        \"max\": 1305,\n        \"num_unique_values\": 27,\n        \"samples\": [\n          56\n        ],\n        \"semantic_type\": \"\",\n        \"description\": \"\"\n      }\n    },\n    {\n      \"column\": \"total_votes\",\n      \"properties\": {\n        \"dtype\": \"number\",\n        \"std\": 11,\n        \"min\": 0,\n        \"max\": 1427,\n        \"num_unique_values\": 29,\n        \"samples\": [\n          1427\n        ],\n        \"semantic_type\": \"\",\n        \"description\": \"\"\n      }\n    },\n    {\n      \"column\": \"vine\",\n      \"properties\": {\n        \"dtype\": \"category\",\n        \"num_unique_values\": 1,\n        \"samples\": [\n          \"N\"\n        ],\n        \"semantic_type\": \"\",\n        \"description\": \"\"\n      }\n    },\n    {\n      \"column\": \"verified_purchase\",\n      \"properties\": {\n        \"dtype\": \"category\",\n        \"num_unique_values\": 2,\n        \"samples\": [\n          \"N\"\n        ],\n        \"semantic_type\": \"\",\n        \"description\": \"\"\n      }\n    },\n    {\n      \"column\": \"review_headline\",\n      \"properties\": {\n        \"dtype\": \"string\",\n        \"num_unique_values\": 10516,\n        \"samples\": [\n          \"Very annoying. This one looks exactly like the last\"\n        ],\n        \"semantic_type\": \"\",\n        \"description\": \"\"\n      }\n    },\n    {\n      \"column\": \"review_body\",\n      \"properties\": {\n        \"dtype\": \"string\",\n        \"num_unique_values\": 18110,\n        \"samples\": [\n          \"Absolutely love it. This is my second Fire, the first one has given me nothing but enjoyment.\"\n        ],\n        \"semantic_type\": \"\",\n        \"description\": \"\"\n      }\n    },\n    {\n      \"column\": \"review_date\",\n      \"properties\": {\n        \"dtype\": \"object\",\n        \"num_unique_values\": 233,\n        \"samples\": [\n          \"2015-06-08\"\n        ],\n        \"semantic_type\": \"\",\n        \"description\": \"\"\n      }\n    },\n    {\n      \"column\": \"sentiment\",\n      \"properties\": {\n        \"dtype\": \"number\",\n        \"std\": 0,\n        \"min\": 0,\n        \"max\": 1,\n        \"num_unique_values\": 2,\n        \"samples\": [\n          0\n        ],\n        \"semantic_type\": \"\",\n        \"description\": \"\"\n      }\n    }\n  ]\n}",
              "type": "dataframe",
              "variable_name": "prod_hosa"
            },
            "text/html": [
              "\n",
              "  <div id=\"df-a6f8bdc0-7757-4372-8748-d1da9b96133d\" class=\"colab-df-container\">\n",
              "    <div>\n",
              "<style scoped>\n",
              "    .dataframe tbody tr th:only-of-type {\n",
              "        vertical-align: middle;\n",
              "    }\n",
              "\n",
              "    .dataframe tbody tr th {\n",
              "        vertical-align: top;\n",
              "    }\n",
              "\n",
              "    .dataframe thead th {\n",
              "        text-align: right;\n",
              "    }\n",
              "</style>\n",
              "<table border=\"1\" class=\"dataframe\">\n",
              "  <thead>\n",
              "    <tr style=\"text-align: right;\">\n",
              "      <th></th>\n",
              "      <th>marketplace</th>\n",
              "      <th>customer_id</th>\n",
              "      <th>review_id</th>\n",
              "      <th>product_id</th>\n",
              "      <th>product_parent</th>\n",
              "      <th>product_title</th>\n",
              "      <th>product_category</th>\n",
              "      <th>star_rating</th>\n",
              "      <th>helpful_votes</th>\n",
              "      <th>total_votes</th>\n",
              "      <th>vine</th>\n",
              "      <th>verified_purchase</th>\n",
              "      <th>review_headline</th>\n",
              "      <th>review_body</th>\n",
              "      <th>review_date</th>\n",
              "      <th>sentiment</th>\n",
              "    </tr>\n",
              "  </thead>\n",
              "  <tbody>\n",
              "    <tr>\n",
              "      <th>0</th>\n",
              "      <td>US</td>\n",
              "      <td>11555559</td>\n",
              "      <td>R1QXC7AHHJBQ3O</td>\n",
              "      <td>B00IKPX4GY</td>\n",
              "      <td>2693241</td>\n",
              "      <td>Fire HD 7, 7\" HD Display, Wi-Fi, 8 GB</td>\n",
              "      <td>PC</td>\n",
              "      <td>5</td>\n",
              "      <td>0</td>\n",
              "      <td>0</td>\n",
              "      <td>N</td>\n",
              "      <td>Y</td>\n",
              "      <td>Five Stars</td>\n",
              "      <td>Great love it</td>\n",
              "      <td>2015-08-31</td>\n",
              "      <td>1</td>\n",
              "    </tr>\n",
              "    <tr>\n",
              "      <th>1</th>\n",
              "      <td>US</td>\n",
              "      <td>31469372</td>\n",
              "      <td>R175VSRV6ZETOP</td>\n",
              "      <td>B00IKPYKWG</td>\n",
              "      <td>2693241</td>\n",
              "      <td>Fire HD 7, 7\" HD Display, Wi-Fi, 8 GB</td>\n",
              "      <td>PC</td>\n",
              "      <td>3</td>\n",
              "      <td>0</td>\n",
              "      <td>0</td>\n",
              "      <td>N</td>\n",
              "      <td>N</td>\n",
              "      <td>Lots of ads Slow processing speed Occasionally...</td>\n",
              "      <td>Lots of ads&lt;br /&gt;Slow processing speed&lt;br /&gt;Oc...</td>\n",
              "      <td>2015-08-31</td>\n",
              "      <td>0</td>\n",
              "    </tr>\n",
              "    <tr>\n",
              "      <th>2</th>\n",
              "      <td>US</td>\n",
              "      <td>26843895</td>\n",
              "      <td>R2HRFF78MWGY19</td>\n",
              "      <td>B00IKPW0UA</td>\n",
              "      <td>2693241</td>\n",
              "      <td>Fire HD 7, 7\" HD Display, Wi-Fi, 8 GB</td>\n",
              "      <td>PC</td>\n",
              "      <td>5</td>\n",
              "      <td>0</td>\n",
              "      <td>0</td>\n",
              "      <td>N</td>\n",
              "      <td>Y</td>\n",
              "      <td>Well thought out device</td>\n",
              "      <td>Excellent unit.  The versatility of this table...</td>\n",
              "      <td>2015-08-31</td>\n",
              "      <td>1</td>\n",
              "    </tr>\n",
              "    <tr>\n",
              "      <th>3</th>\n",
              "      <td>US</td>\n",
              "      <td>19844868</td>\n",
              "      <td>R8Q39WPKYVSTX</td>\n",
              "      <td>B00LCHSHMS</td>\n",
              "      <td>2693241</td>\n",
              "      <td>Fire HD 7, 7\" HD Display, Wi-Fi, 8 GB</td>\n",
              "      <td>PC</td>\n",
              "      <td>4</td>\n",
              "      <td>0</td>\n",
              "      <td>0</td>\n",
              "      <td>N</td>\n",
              "      <td>N</td>\n",
              "      <td>Not all apps/games we were looking forward to ...</td>\n",
              "      <td>I bought this on Amazon Prime so I ended up bu...</td>\n",
              "      <td>2015-08-31</td>\n",
              "      <td>1</td>\n",
              "    </tr>\n",
              "    <tr>\n",
              "      <th>4</th>\n",
              "      <td>US</td>\n",
              "      <td>1189852</td>\n",
              "      <td>R3RL4C8YP2ZCJL</td>\n",
              "      <td>B00IKPZ5V6</td>\n",
              "      <td>2693241</td>\n",
              "      <td>Fire HD 7, 7\" HD Display, Wi-Fi, 8 GB</td>\n",
              "      <td>PC</td>\n",
              "      <td>5</td>\n",
              "      <td>0</td>\n",
              "      <td>0</td>\n",
              "      <td>N</td>\n",
              "      <td>Y</td>\n",
              "      <td>Five Stars</td>\n",
              "      <td>All Amazon products continue to meet my expect...</td>\n",
              "      <td>2015-08-31</td>\n",
              "      <td>1</td>\n",
              "    </tr>\n",
              "    <tr>\n",
              "      <th>...</th>\n",
              "      <td>...</td>\n",
              "      <td>...</td>\n",
              "      <td>...</td>\n",
              "      <td>...</td>\n",
              "      <td>...</td>\n",
              "      <td>...</td>\n",
              "      <td>...</td>\n",
              "      <td>...</td>\n",
              "      <td>...</td>\n",
              "      <td>...</td>\n",
              "      <td>...</td>\n",
              "      <td>...</td>\n",
              "      <td>...</td>\n",
              "      <td>...</td>\n",
              "      <td>...</td>\n",
              "      <td>...</td>\n",
              "    </tr>\n",
              "    <tr>\n",
              "      <th>19875</th>\n",
              "      <td>US</td>\n",
              "      <td>52818136</td>\n",
              "      <td>R2CQYGVSPB8937</td>\n",
              "      <td>B00IKPYKWG</td>\n",
              "      <td>2693241</td>\n",
              "      <td>Fire HD 7, 7\" HD Display, Wi-Fi, 8 GB</td>\n",
              "      <td>PC</td>\n",
              "      <td>5</td>\n",
              "      <td>0</td>\n",
              "      <td>0</td>\n",
              "      <td>N</td>\n",
              "      <td>Y</td>\n",
              "      <td>good kindle</td>\n",
              "      <td>I love it!</td>\n",
              "      <td>2015-01-11</td>\n",
              "      <td>1</td>\n",
              "    </tr>\n",
              "    <tr>\n",
              "      <th>19876</th>\n",
              "      <td>US</td>\n",
              "      <td>47444871</td>\n",
              "      <td>R1UPELMP9K214H</td>\n",
              "      <td>B00IKPYKWG</td>\n",
              "      <td>2693241</td>\n",
              "      <td>Fire HD 7, 7\" HD Display, Wi-Fi, 8 GB</td>\n",
              "      <td>PC</td>\n",
              "      <td>5</td>\n",
              "      <td>0</td>\n",
              "      <td>0</td>\n",
              "      <td>N</td>\n",
              "      <td>Y</td>\n",
              "      <td>Five Stars</td>\n",
              "      <td>Nice Fire HD</td>\n",
              "      <td>2015-01-11</td>\n",
              "      <td>1</td>\n",
              "    </tr>\n",
              "    <tr>\n",
              "      <th>19877</th>\n",
              "      <td>US</td>\n",
              "      <td>41859893</td>\n",
              "      <td>R2RFZX5QLQBS8W</td>\n",
              "      <td>B00IKPYKWG</td>\n",
              "      <td>2693241</td>\n",
              "      <td>Fire HD 7, 7\" HD Display, Wi-Fi, 8 GB</td>\n",
              "      <td>PC</td>\n",
              "      <td>5</td>\n",
              "      <td>0</td>\n",
              "      <td>0</td>\n",
              "      <td>N</td>\n",
              "      <td>Y</td>\n",
              "      <td>Five Stars</td>\n",
              "      <td>Love it!!!!!</td>\n",
              "      <td>2015-01-11</td>\n",
              "      <td>1</td>\n",
              "    </tr>\n",
              "    <tr>\n",
              "      <th>19878</th>\n",
              "      <td>US</td>\n",
              "      <td>52214044</td>\n",
              "      <td>R1GX2SMCAISJWJ</td>\n",
              "      <td>B00IKPYKWG</td>\n",
              "      <td>2693241</td>\n",
              "      <td>Fire HD 7, 7\" HD Display, Wi-Fi, 8 GB</td>\n",
              "      <td>PC</td>\n",
              "      <td>3</td>\n",
              "      <td>1</td>\n",
              "      <td>1</td>\n",
              "      <td>N</td>\n",
              "      <td>Y</td>\n",
              "      <td>Better Battery life would be nice. but let's c...</td>\n",
              "      <td>I am a long time Apple user - and happy to be ...</td>\n",
              "      <td>2015-01-11</td>\n",
              "      <td>0</td>\n",
              "    </tr>\n",
              "    <tr>\n",
              "      <th>19879</th>\n",
              "      <td>US</td>\n",
              "      <td>22862164</td>\n",
              "      <td>R2CIRY0XAKPQWM</td>\n",
              "      <td>B00IKPYKWG</td>\n",
              "      <td>2693241</td>\n",
              "      <td>Fire HD 7, 7\" HD Display, Wi-Fi, 8 GB</td>\n",
              "      <td>PC</td>\n",
              "      <td>1</td>\n",
              "      <td>0</td>\n",
              "      <td>0</td>\n",
              "      <td>N</td>\n",
              "      <td>Y</td>\n",
              "      <td>A Gift for Anyone</td>\n",
              "      <td>What a special Christmas gift from my son and ...</td>\n",
              "      <td>NaN</td>\n",
              "      <td>0</td>\n",
              "    </tr>\n",
              "  </tbody>\n",
              "</table>\n",
              "<p>19880 rows × 16 columns</p>\n",
              "</div>\n",
              "    <div class=\"colab-df-buttons\">\n",
              "\n",
              "  <div class=\"colab-df-container\">\n",
              "    <button class=\"colab-df-convert\" onclick=\"convertToInteractive('df-a6f8bdc0-7757-4372-8748-d1da9b96133d')\"\n",
              "            title=\"Convert this dataframe to an interactive table.\"\n",
              "            style=\"display:none;\">\n",
              "\n",
              "  <svg xmlns=\"http://www.w3.org/2000/svg\" height=\"24px\" viewBox=\"0 -960 960 960\">\n",
              "    <path d=\"M120-120v-720h720v720H120Zm60-500h600v-160H180v160Zm220 220h160v-160H400v160Zm0 220h160v-160H400v160ZM180-400h160v-160H180v160Zm440 0h160v-160H620v160ZM180-180h160v-160H180v160Zm440 0h160v-160H620v160Z\"/>\n",
              "  </svg>\n",
              "    </button>\n",
              "\n",
              "  <style>\n",
              "    .colab-df-container {\n",
              "      display:flex;\n",
              "      gap: 12px;\n",
              "    }\n",
              "\n",
              "    .colab-df-convert {\n",
              "      background-color: #E8F0FE;\n",
              "      border: none;\n",
              "      border-radius: 50%;\n",
              "      cursor: pointer;\n",
              "      display: none;\n",
              "      fill: #1967D2;\n",
              "      height: 32px;\n",
              "      padding: 0 0 0 0;\n",
              "      width: 32px;\n",
              "    }\n",
              "\n",
              "    .colab-df-convert:hover {\n",
              "      background-color: #E2EBFA;\n",
              "      box-shadow: 0px 1px 2px rgba(60, 64, 67, 0.3), 0px 1px 3px 1px rgba(60, 64, 67, 0.15);\n",
              "      fill: #174EA6;\n",
              "    }\n",
              "\n",
              "    .colab-df-buttons div {\n",
              "      margin-bottom: 4px;\n",
              "    }\n",
              "\n",
              "    [theme=dark] .colab-df-convert {\n",
              "      background-color: #3B4455;\n",
              "      fill: #D2E3FC;\n",
              "    }\n",
              "\n",
              "    [theme=dark] .colab-df-convert:hover {\n",
              "      background-color: #434B5C;\n",
              "      box-shadow: 0px 1px 3px 1px rgba(0, 0, 0, 0.15);\n",
              "      filter: drop-shadow(0px 1px 2px rgba(0, 0, 0, 0.3));\n",
              "      fill: #FFFFFF;\n",
              "    }\n",
              "  </style>\n",
              "\n",
              "    <script>\n",
              "      const buttonEl =\n",
              "        document.querySelector('#df-a6f8bdc0-7757-4372-8748-d1da9b96133d button.colab-df-convert');\n",
              "      buttonEl.style.display =\n",
              "        google.colab.kernel.accessAllowed ? 'block' : 'none';\n",
              "\n",
              "      async function convertToInteractive(key) {\n",
              "        const element = document.querySelector('#df-a6f8bdc0-7757-4372-8748-d1da9b96133d');\n",
              "        const dataTable =\n",
              "          await google.colab.kernel.invokeFunction('convertToInteractive',\n",
              "                                                    [key], {});\n",
              "        if (!dataTable) return;\n",
              "\n",
              "        const docLinkHtml = 'Like what you see? Visit the ' +\n",
              "          '<a target=\"_blank\" href=https://colab.research.google.com/notebooks/data_table.ipynb>data table notebook</a>'\n",
              "          + ' to learn more about interactive tables.';\n",
              "        element.innerHTML = '';\n",
              "        dataTable['output_type'] = 'display_data';\n",
              "        await google.colab.output.renderOutput(dataTable, element);\n",
              "        const docLink = document.createElement('div');\n",
              "        docLink.innerHTML = docLinkHtml;\n",
              "        element.appendChild(docLink);\n",
              "      }\n",
              "    </script>\n",
              "  </div>\n",
              "\n",
              "\n",
              "<div id=\"df-400976d7-435a-42e4-a27f-5d06007555fb\">\n",
              "  <button class=\"colab-df-quickchart\" onclick=\"quickchart('df-400976d7-435a-42e4-a27f-5d06007555fb')\"\n",
              "            title=\"Suggest charts\"\n",
              "            style=\"display:none;\">\n",
              "\n",
              "<svg xmlns=\"http://www.w3.org/2000/svg\" height=\"24px\"viewBox=\"0 0 24 24\"\n",
              "     width=\"24px\">\n",
              "    <g>\n",
              "        <path d=\"M19 3H5c-1.1 0-2 .9-2 2v14c0 1.1.9 2 2 2h14c1.1 0 2-.9 2-2V5c0-1.1-.9-2-2-2zM9 17H7v-7h2v7zm4 0h-2V7h2v10zm4 0h-2v-4h2v4z\"/>\n",
              "    </g>\n",
              "</svg>\n",
              "  </button>\n",
              "\n",
              "<style>\n",
              "  .colab-df-quickchart {\n",
              "      --bg-color: #E8F0FE;\n",
              "      --fill-color: #1967D2;\n",
              "      --hover-bg-color: #E2EBFA;\n",
              "      --hover-fill-color: #174EA6;\n",
              "      --disabled-fill-color: #AAA;\n",
              "      --disabled-bg-color: #DDD;\n",
              "  }\n",
              "\n",
              "  [theme=dark] .colab-df-quickchart {\n",
              "      --bg-color: #3B4455;\n",
              "      --fill-color: #D2E3FC;\n",
              "      --hover-bg-color: #434B5C;\n",
              "      --hover-fill-color: #FFFFFF;\n",
              "      --disabled-bg-color: #3B4455;\n",
              "      --disabled-fill-color: #666;\n",
              "  }\n",
              "\n",
              "  .colab-df-quickchart {\n",
              "    background-color: var(--bg-color);\n",
              "    border: none;\n",
              "    border-radius: 50%;\n",
              "    cursor: pointer;\n",
              "    display: none;\n",
              "    fill: var(--fill-color);\n",
              "    height: 32px;\n",
              "    padding: 0;\n",
              "    width: 32px;\n",
              "  }\n",
              "\n",
              "  .colab-df-quickchart:hover {\n",
              "    background-color: var(--hover-bg-color);\n",
              "    box-shadow: 0 1px 2px rgba(60, 64, 67, 0.3), 0 1px 3px 1px rgba(60, 64, 67, 0.15);\n",
              "    fill: var(--button-hover-fill-color);\n",
              "  }\n",
              "\n",
              "  .colab-df-quickchart-complete:disabled,\n",
              "  .colab-df-quickchart-complete:disabled:hover {\n",
              "    background-color: var(--disabled-bg-color);\n",
              "    fill: var(--disabled-fill-color);\n",
              "    box-shadow: none;\n",
              "  }\n",
              "\n",
              "  .colab-df-spinner {\n",
              "    border: 2px solid var(--fill-color);\n",
              "    border-color: transparent;\n",
              "    border-bottom-color: var(--fill-color);\n",
              "    animation:\n",
              "      spin 1s steps(1) infinite;\n",
              "  }\n",
              "\n",
              "  @keyframes spin {\n",
              "    0% {\n",
              "      border-color: transparent;\n",
              "      border-bottom-color: var(--fill-color);\n",
              "      border-left-color: var(--fill-color);\n",
              "    }\n",
              "    20% {\n",
              "      border-color: transparent;\n",
              "      border-left-color: var(--fill-color);\n",
              "      border-top-color: var(--fill-color);\n",
              "    }\n",
              "    30% {\n",
              "      border-color: transparent;\n",
              "      border-left-color: var(--fill-color);\n",
              "      border-top-color: var(--fill-color);\n",
              "      border-right-color: var(--fill-color);\n",
              "    }\n",
              "    40% {\n",
              "      border-color: transparent;\n",
              "      border-right-color: var(--fill-color);\n",
              "      border-top-color: var(--fill-color);\n",
              "    }\n",
              "    60% {\n",
              "      border-color: transparent;\n",
              "      border-right-color: var(--fill-color);\n",
              "    }\n",
              "    80% {\n",
              "      border-color: transparent;\n",
              "      border-right-color: var(--fill-color);\n",
              "      border-bottom-color: var(--fill-color);\n",
              "    }\n",
              "    90% {\n",
              "      border-color: transparent;\n",
              "      border-bottom-color: var(--fill-color);\n",
              "    }\n",
              "  }\n",
              "</style>\n",
              "\n",
              "  <script>\n",
              "    async function quickchart(key) {\n",
              "      const quickchartButtonEl =\n",
              "        document.querySelector('#' + key + ' button');\n",
              "      quickchartButtonEl.disabled = true;  // To prevent multiple clicks.\n",
              "      quickchartButtonEl.classList.add('colab-df-spinner');\n",
              "      try {\n",
              "        const charts = await google.colab.kernel.invokeFunction(\n",
              "            'suggestCharts', [key], {});\n",
              "      } catch (error) {\n",
              "        console.error('Error during call to suggestCharts:', error);\n",
              "      }\n",
              "      quickchartButtonEl.classList.remove('colab-df-spinner');\n",
              "      quickchartButtonEl.classList.add('colab-df-quickchart-complete');\n",
              "    }\n",
              "    (() => {\n",
              "      let quickchartButtonEl =\n",
              "        document.querySelector('#df-400976d7-435a-42e4-a27f-5d06007555fb button');\n",
              "      quickchartButtonEl.style.display =\n",
              "        google.colab.kernel.accessAllowed ? 'block' : 'none';\n",
              "    })();\n",
              "  </script>\n",
              "</div>\n",
              "\n",
              "  <div id=\"id_ce10953b-b58a-4d9f-b6c4-21d59afc9c52\">\n",
              "    <style>\n",
              "      .colab-df-generate {\n",
              "        background-color: #E8F0FE;\n",
              "        border: none;\n",
              "        border-radius: 50%;\n",
              "        cursor: pointer;\n",
              "        display: none;\n",
              "        fill: #1967D2;\n",
              "        height: 32px;\n",
              "        padding: 0 0 0 0;\n",
              "        width: 32px;\n",
              "      }\n",
              "\n",
              "      .colab-df-generate:hover {\n",
              "        background-color: #E2EBFA;\n",
              "        box-shadow: 0px 1px 2px rgba(60, 64, 67, 0.3), 0px 1px 3px 1px rgba(60, 64, 67, 0.15);\n",
              "        fill: #174EA6;\n",
              "      }\n",
              "\n",
              "      [theme=dark] .colab-df-generate {\n",
              "        background-color: #3B4455;\n",
              "        fill: #D2E3FC;\n",
              "      }\n",
              "\n",
              "      [theme=dark] .colab-df-generate:hover {\n",
              "        background-color: #434B5C;\n",
              "        box-shadow: 0px 1px 3px 1px rgba(0, 0, 0, 0.15);\n",
              "        filter: drop-shadow(0px 1px 2px rgba(0, 0, 0, 0.3));\n",
              "        fill: #FFFFFF;\n",
              "      }\n",
              "    </style>\n",
              "    <button class=\"colab-df-generate\" onclick=\"generateWithVariable('prod_hosa')\"\n",
              "            title=\"Generate code using this dataframe.\"\n",
              "            style=\"display:none;\">\n",
              "\n",
              "  <svg xmlns=\"http://www.w3.org/2000/svg\" height=\"24px\"viewBox=\"0 0 24 24\"\n",
              "       width=\"24px\">\n",
              "    <path d=\"M7,19H8.4L18.45,9,17,7.55,7,17.6ZM5,21V16.75L18.45,3.32a2,2,0,0,1,2.83,0l1.4,1.43a1.91,1.91,0,0,1,.58,1.4,1.91,1.91,0,0,1-.58,1.4L9.25,21ZM18.45,9,17,7.55Zm-12,3A5.31,5.31,0,0,0,4.9,8.1,5.31,5.31,0,0,0,1,6.5,5.31,5.31,0,0,0,4.9,4.9,5.31,5.31,0,0,0,6.5,1,5.31,5.31,0,0,0,8.1,4.9,5.31,5.31,0,0,0,12,6.5,5.46,5.46,0,0,0,6.5,12Z\"/>\n",
              "  </svg>\n",
              "    </button>\n",
              "    <script>\n",
              "      (() => {\n",
              "      const buttonEl =\n",
              "        document.querySelector('#id_ce10953b-b58a-4d9f-b6c4-21d59afc9c52 button.colab-df-generate');\n",
              "      buttonEl.style.display =\n",
              "        google.colab.kernel.accessAllowed ? 'block' : 'none';\n",
              "\n",
              "      buttonEl.onclick = () => {\n",
              "        google.colab.notebook.generateWithVariable('prod_hosa');\n",
              "      }\n",
              "      })();\n",
              "    </script>\n",
              "  </div>\n",
              "\n",
              "    </div>\n",
              "  </div>\n"
            ],
            "text/plain": [
              "      marketplace  customer_id       review_id  product_id  product_parent  \\\n",
              "0              US     11555559  R1QXC7AHHJBQ3O  B00IKPX4GY         2693241   \n",
              "1              US     31469372  R175VSRV6ZETOP  B00IKPYKWG         2693241   \n",
              "2              US     26843895  R2HRFF78MWGY19  B00IKPW0UA         2693241   \n",
              "3              US     19844868   R8Q39WPKYVSTX  B00LCHSHMS         2693241   \n",
              "4              US      1189852  R3RL4C8YP2ZCJL  B00IKPZ5V6         2693241   \n",
              "...           ...          ...             ...         ...             ...   \n",
              "19875          US     52818136  R2CQYGVSPB8937  B00IKPYKWG         2693241   \n",
              "19876          US     47444871  R1UPELMP9K214H  B00IKPYKWG         2693241   \n",
              "19877          US     41859893  R2RFZX5QLQBS8W  B00IKPYKWG         2693241   \n",
              "19878          US     52214044  R1GX2SMCAISJWJ  B00IKPYKWG         2693241   \n",
              "19879          US     22862164  R2CIRY0XAKPQWM  B00IKPYKWG         2693241   \n",
              "\n",
              "                               product_title product_category  star_rating  \\\n",
              "0      Fire HD 7, 7\" HD Display, Wi-Fi, 8 GB               PC            5   \n",
              "1      Fire HD 7, 7\" HD Display, Wi-Fi, 8 GB               PC            3   \n",
              "2      Fire HD 7, 7\" HD Display, Wi-Fi, 8 GB               PC            5   \n",
              "3      Fire HD 7, 7\" HD Display, Wi-Fi, 8 GB               PC            4   \n",
              "4      Fire HD 7, 7\" HD Display, Wi-Fi, 8 GB               PC            5   \n",
              "...                                      ...              ...          ...   \n",
              "19875  Fire HD 7, 7\" HD Display, Wi-Fi, 8 GB               PC            5   \n",
              "19876  Fire HD 7, 7\" HD Display, Wi-Fi, 8 GB               PC            5   \n",
              "19877  Fire HD 7, 7\" HD Display, Wi-Fi, 8 GB               PC            5   \n",
              "19878  Fire HD 7, 7\" HD Display, Wi-Fi, 8 GB               PC            3   \n",
              "19879  Fire HD 7, 7\" HD Display, Wi-Fi, 8 GB               PC            1   \n",
              "\n",
              "       helpful_votes  total_votes vine verified_purchase  \\\n",
              "0                  0            0    N                 Y   \n",
              "1                  0            0    N                 N   \n",
              "2                  0            0    N                 Y   \n",
              "3                  0            0    N                 N   \n",
              "4                  0            0    N                 Y   \n",
              "...              ...          ...  ...               ...   \n",
              "19875              0            0    N                 Y   \n",
              "19876              0            0    N                 Y   \n",
              "19877              0            0    N                 Y   \n",
              "19878              1            1    N                 Y   \n",
              "19879              0            0    N                 Y   \n",
              "\n",
              "                                         review_headline  \\\n",
              "0                                             Five Stars   \n",
              "1      Lots of ads Slow processing speed Occasionally...   \n",
              "2                                Well thought out device   \n",
              "3      Not all apps/games we were looking forward to ...   \n",
              "4                                             Five Stars   \n",
              "...                                                  ...   \n",
              "19875                                        good kindle   \n",
              "19876                                         Five Stars   \n",
              "19877                                         Five Stars   \n",
              "19878  Better Battery life would be nice. but let's c...   \n",
              "19879                                  A Gift for Anyone   \n",
              "\n",
              "                                             review_body review_date  \\\n",
              "0                                          Great love it  2015-08-31   \n",
              "1      Lots of ads<br />Slow processing speed<br />Oc...  2015-08-31   \n",
              "2      Excellent unit.  The versatility of this table...  2015-08-31   \n",
              "3      I bought this on Amazon Prime so I ended up bu...  2015-08-31   \n",
              "4      All Amazon products continue to meet my expect...  2015-08-31   \n",
              "...                                                  ...         ...   \n",
              "19875                                         I love it!  2015-01-11   \n",
              "19876                                       Nice Fire HD  2015-01-11   \n",
              "19877                                       Love it!!!!!  2015-01-11   \n",
              "19878  I am a long time Apple user - and happy to be ...  2015-01-11   \n",
              "19879  What a special Christmas gift from my son and ...         NaN   \n",
              "\n",
              "       sentiment  \n",
              "0              1  \n",
              "1              0  \n",
              "2              1  \n",
              "3              1  \n",
              "4              1  \n",
              "...          ...  \n",
              "19875          1  \n",
              "19876          1  \n",
              "19877          1  \n",
              "19878          0  \n",
              "19879          0  \n",
              "\n",
              "[19880 rows x 16 columns]"
            ]
          },
          "execution_count": 5,
          "metadata": {},
          "output_type": "execute_result"
        }
      ],
      "source": [
        "data['sentiment'] = np.where(data['star_rating'] == 5.0, 1,\n",
        "                           np.where(data['star_rating'] == 4.0, 1, 0))\n",
        "data[\"product_title\"].unique()\n",
        "prod_hosa = data.loc[data[\"product_title\"]=='Fire HD 7, 7\" HD Display, Wi-Fi, 8 GB']\n",
        "prod_hosa"
      ]
    },
    {
      "cell_type": "code",
      "execution_count": null,
      "metadata": {
        "id": "A-YmvXqSgbp3"
      },
      "outputs": [],
      "source": [
        "# #split data-set to train and test\n",
        "\n",
        "X = prod_hosa['review_body']\n",
        "Y = prod_hosa['sentiment']\n",
        "\n",
        "X_train, X_test, Y_train, Y_test = train_test_split(X, Y, test_size = 0.2, random_state=42)"
      ]
    },
    {
      "cell_type": "code",
      "execution_count": null,
      "metadata": {
        "id": "lE7Zn9GggeBt"
      },
      "outputs": [],
      "source": [
        "# function to remove html elements from the reviews\n",
        "def removeHTML(raw_text):\n",
        "    clean_HTML = BeautifulSoup(raw_text, 'lxml').get_text()\n",
        "    return clean_HTML\n"
      ]
    },
    {
      "cell_type": "code",
      "execution_count": null,
      "metadata": {
        "id": "n_J4-W7mgeEk"
      },
      "outputs": [],
      "source": [
        "# function to remove special characters and numbers from the reviews4961\n",
        "def removeSpecialChar(raw_text):\n",
        "    clean_SpecialChar = re.sub(\"[^a-zA-Z]\", \" \", raw_text)\n",
        "    return clean_SpecialChar"
      ]
    },
    {
      "cell_type": "code",
      "execution_count": null,
      "metadata": {
        "id": "a1o9DwrngeN7"
      },
      "outputs": [],
      "source": [
        "# function to convert all reviews into lower case\n",
        "def toLowerCase(raw_text):\n",
        "    clean_LowerCase = raw_text.lower().split()\n",
        "    return( \" \".join(clean_LowerCase))\n"
      ]
    },
    {
      "cell_type": "code",
      "execution_count": null,
      "metadata": {
        "id": "PFwwTu0GgeQj"
      },
      "outputs": [],
      "source": [
        "# function to remove stop words from the reviews\n",
        "def removeStopWords(raw_text):\n",
        "    stops = set(stopwords.words(\"english\"))\n",
        "    words = [w for w in raw_text if not w in stops]\n",
        "    return( \" \".join(words))"
      ]
    },
    {
      "cell_type": "code",
      "execution_count": null,
      "metadata": {
        "colab": {
          "base_uri": "https://localhost:8080/"
        },
        "id": "w_oHzmH1glv2",
        "outputId": "3fbaafcc-b3d9-4a5d-a097-35a87bafa9d9"
      },
      "outputs": [
        {
          "name": "stderr",
          "output_type": "stream",
          "text": [
            "[nltk_data] Downloading package stopwords to /root/nltk_data...\n",
            "[nltk_data]   Unzipping corpora/stopwords.zip.\n"
          ]
        },
        {
          "data": {
            "text/plain": [
              "True"
            ]
          },
          "execution_count": 11,
          "metadata": {},
          "output_type": "execute_result"
        }
      ],
      "source": [
        "nltk.download('stopwords')"
      ]
    },
    {
      "cell_type": "code",
      "execution_count": null,
      "metadata": {
        "colab": {
          "base_uri": "https://localhost:8080/"
        },
        "id": "RA-fZfThgly7",
        "outputId": "94e96b4a-5346-4829-c495-d6c145b719f8"
      },
      "outputs": [
        {
          "name": "stderr",
          "output_type": "stream",
          "text": [
            "<ipython-input-7-c2a805237a43>:3: MarkupResemblesLocatorWarning: The input looks more like a filename than markup. You may want to open this file and pass the filehandle into Beautiful Soup.\n",
            "  clean_HTML = BeautifulSoup(raw_text, 'lxml').get_text()\n"
          ]
        }
      ],
      "source": [
        "# X_training clean set\n",
        "X_train_cleaned = []\n",
        "\n",
        "for val in X_train:\n",
        "    val = removeHTML(val)\n",
        "    val = removeSpecialChar(val)\n",
        "    val = toLowerCase(val)\n",
        "    removeStopWords(val)\n",
        "    X_train_cleaned.append(val)"
      ]
    },
    {
      "cell_type": "code",
      "execution_count": null,
      "metadata": {
        "colab": {
          "base_uri": "https://localhost:8080/"
        },
        "id": "PkxpvSNxgl2D",
        "outputId": "02e8fca7-4e57-4de8-fb93-ef828b7d5a36"
      },
      "outputs": [
        {
          "name": "stderr",
          "output_type": "stream",
          "text": [
            "<ipython-input-7-c2a805237a43>:3: MarkupResemblesLocatorWarning: The input looks more like a filename than markup. You may want to open this file and pass the filehandle into Beautiful Soup.\n",
            "  clean_HTML = BeautifulSoup(raw_text, 'lxml').get_text()\n"
          ]
        }
      ],
      "source": [
        "# X_testing clean set\n",
        "X_test_cleaned = []\n",
        "\n",
        "for val in X_test:\n",
        "    val = removeHTML(val)\n",
        "    val = removeSpecialChar(val)\n",
        "    val = toLowerCase(val)\n",
        "    removeStopWords(val)\n",
        "    X_test_cleaned.append(val)"
      ]
    },
    {
      "cell_type": "code",
      "execution_count": null,
      "metadata": {
        "id": "Ut7hSMnoVEnv"
      },
      "outputs": [],
      "source": [
        "# Convert a collection of raw documents to a matrix of TF-IDF features. This is required so as to train the model using features instead of\n",
        "# raw strings.\n",
        "tvec = TfidfVectorizer(use_idf=True,\n",
        "strip_accents='ascii')\n",
        "\n",
        "X_train_tvec = tvec.fit_transform(X_train_cleaned)"
      ]
    },
    {
      "cell_type": "markdown",
      "metadata": {
        "id": "FPOsujITVdSS"
      },
      "source": [
        "Random Forest Model"
      ]
    },
    {
      "cell_type": "code",
      "execution_count": null,
      "metadata": {
        "colab": {
          "base_uri": "https://localhost:8080/",
          "height": 74
        },
        "id": "HiRwcFHgVHog",
        "outputId": "3eb88f3a-c25a-4c98-f66e-efbc43fb666a"
      },
      "outputs": [
        {
          "data": {
            "text/html": [
              "<style>#sk-container-id-1 {color: black;background-color: white;}#sk-container-id-1 pre{padding: 0;}#sk-container-id-1 div.sk-toggleable {background-color: white;}#sk-container-id-1 label.sk-toggleable__label {cursor: pointer;display: block;width: 100%;margin-bottom: 0;padding: 0.3em;box-sizing: border-box;text-align: center;}#sk-container-id-1 label.sk-toggleable__label-arrow:before {content: \"▸\";float: left;margin-right: 0.25em;color: #696969;}#sk-container-id-1 label.sk-toggleable__label-arrow:hover:before {color: black;}#sk-container-id-1 div.sk-estimator:hover label.sk-toggleable__label-arrow:before {color: black;}#sk-container-id-1 div.sk-toggleable__content {max-height: 0;max-width: 0;overflow: hidden;text-align: left;background-color: #f0f8ff;}#sk-container-id-1 div.sk-toggleable__content pre {margin: 0.2em;color: black;border-radius: 0.25em;background-color: #f0f8ff;}#sk-container-id-1 input.sk-toggleable__control:checked~div.sk-toggleable__content {max-height: 200px;max-width: 100%;overflow: auto;}#sk-container-id-1 input.sk-toggleable__control:checked~label.sk-toggleable__label-arrow:before {content: \"▾\";}#sk-container-id-1 div.sk-estimator input.sk-toggleable__control:checked~label.sk-toggleable__label {background-color: #d4ebff;}#sk-container-id-1 div.sk-label input.sk-toggleable__control:checked~label.sk-toggleable__label {background-color: #d4ebff;}#sk-container-id-1 input.sk-hidden--visually {border: 0;clip: rect(1px 1px 1px 1px);clip: rect(1px, 1px, 1px, 1px);height: 1px;margin: -1px;overflow: hidden;padding: 0;position: absolute;width: 1px;}#sk-container-id-1 div.sk-estimator {font-family: monospace;background-color: #f0f8ff;border: 1px dotted black;border-radius: 0.25em;box-sizing: border-box;margin-bottom: 0.5em;}#sk-container-id-1 div.sk-estimator:hover {background-color: #d4ebff;}#sk-container-id-1 div.sk-parallel-item::after {content: \"\";width: 100%;border-bottom: 1px solid gray;flex-grow: 1;}#sk-container-id-1 div.sk-label:hover label.sk-toggleable__label {background-color: #d4ebff;}#sk-container-id-1 div.sk-serial::before {content: \"\";position: absolute;border-left: 1px solid gray;box-sizing: border-box;top: 0;bottom: 0;left: 50%;z-index: 0;}#sk-container-id-1 div.sk-serial {display: flex;flex-direction: column;align-items: center;background-color: white;padding-right: 0.2em;padding-left: 0.2em;position: relative;}#sk-container-id-1 div.sk-item {position: relative;z-index: 1;}#sk-container-id-1 div.sk-parallel {display: flex;align-items: stretch;justify-content: center;background-color: white;position: relative;}#sk-container-id-1 div.sk-item::before, #sk-container-id-1 div.sk-parallel-item::before {content: \"\";position: absolute;border-left: 1px solid gray;box-sizing: border-box;top: 0;bottom: 0;left: 50%;z-index: -1;}#sk-container-id-1 div.sk-parallel-item {display: flex;flex-direction: column;z-index: 1;position: relative;background-color: white;}#sk-container-id-1 div.sk-parallel-item:first-child::after {align-self: flex-end;width: 50%;}#sk-container-id-1 div.sk-parallel-item:last-child::after {align-self: flex-start;width: 50%;}#sk-container-id-1 div.sk-parallel-item:only-child::after {width: 0;}#sk-container-id-1 div.sk-dashed-wrapped {border: 1px dashed gray;margin: 0 0.4em 0.5em 0.4em;box-sizing: border-box;padding-bottom: 0.4em;background-color: white;}#sk-container-id-1 div.sk-label label {font-family: monospace;font-weight: bold;display: inline-block;line-height: 1.2em;}#sk-container-id-1 div.sk-label-container {text-align: center;}#sk-container-id-1 div.sk-container {/* jupyter's `normalize.less` sets `[hidden] { display: none; }` but bootstrap.min.css set `[hidden] { display: none !important; }` so we also need the `!important` here to be able to override the default hidden behavior on the sphinx rendered scikit-learn.org. See: https://github.com/scikit-learn/scikit-learn/issues/21755 */display: inline-block !important;position: relative;}#sk-container-id-1 div.sk-text-repr-fallback {display: none;}</style><div id=\"sk-container-id-1\" class=\"sk-top-container\"><div class=\"sk-text-repr-fallback\"><pre>RandomForestClassifier()</pre><b>In a Jupyter environment, please rerun this cell to show the HTML representation or trust the notebook. <br />On GitHub, the HTML representation is unable to render, please try loading this page with nbviewer.org.</b></div><div class=\"sk-container\" hidden><div class=\"sk-item\"><div class=\"sk-estimator sk-toggleable\"><input class=\"sk-toggleable__control sk-hidden--visually\" id=\"sk-estimator-id-1\" type=\"checkbox\" checked><label for=\"sk-estimator-id-1\" class=\"sk-toggleable__label sk-toggleable__label-arrow\">RandomForestClassifier</label><div class=\"sk-toggleable__content\"><pre>RandomForestClassifier()</pre></div></div></div></div></div>"
            ],
            "text/plain": [
              "RandomForestClassifier()"
            ]
          },
          "execution_count": 15,
          "metadata": {},
          "output_type": "execute_result"
        }
      ],
      "source": [
        "# Random Forest model\n",
        "random_forest = RandomForestClassifier()\n",
        "random_forest.fit(X_train_tvec, Y_train)"
      ]
    },
    {
      "cell_type": "code",
      "execution_count": null,
      "metadata": {
        "colab": {
          "base_uri": "https://localhost:8080/",
          "height": 206
        },
        "id": "gCAsqk3GVH0t",
        "outputId": "6ab939e2-1039-4f57-a496-285f3117815f"
      },
      "outputs": [
        {
          "data": {
            "text/html": [
              "<style type=\"text/css\">\n",
              "#T_dd8b8_row0_col0, #T_dd8b8_row0_col1, #T_dd8b8_row0_col2, #T_dd8b8_row2_col3 {\n",
              "  background-color: #f3f0f0;\n",
              "  color: #000000;\n",
              "}\n",
              "#T_dd8b8_row0_col3 {\n",
              "  background-color: #f5c9c9;\n",
              "  color: #000000;\n",
              "}\n",
              "#T_dd8b8_row1_col0, #T_dd8b8_row1_col1, #T_dd8b8_row1_col2, #T_dd8b8_row2_col0, #T_dd8b8_row3_col3, #T_dd8b8_row4_col0, #T_dd8b8_row4_col3 {\n",
              "  background-color: #ff0000;\n",
              "  color: #f1f1f1;\n",
              "}\n",
              "#T_dd8b8_row1_col3, #T_dd8b8_row2_col1, #T_dd8b8_row4_col1, #T_dd8b8_row4_col2 {\n",
              "  background-color: #fd2727;\n",
              "  color: #f1f1f1;\n",
              "}\n",
              "#T_dd8b8_row2_col2 {\n",
              "  background-color: #fe1919;\n",
              "  color: #f1f1f1;\n",
              "}\n",
              "#T_dd8b8_row3_col0 {\n",
              "  background-color: #fb5050;\n",
              "  color: #f1f1f1;\n",
              "}\n",
              "#T_dd8b8_row3_col1 {\n",
              "  background-color: #f97878;\n",
              "  color: #f1f1f1;\n",
              "}\n",
              "#T_dd8b8_row3_col2 {\n",
              "  background-color: #f97676;\n",
              "  color: #f1f1f1;\n",
              "}\n",
              "</style>\n",
              "<table id=\"T_dd8b8\" class=\"dataframe\">\n",
              "  <thead>\n",
              "    <tr>\n",
              "      <th class=\"blank level0\" >&nbsp;</th>\n",
              "      <th id=\"T_dd8b8_level0_col0\" class=\"col_heading level0 col0\" >precision</th>\n",
              "      <th id=\"T_dd8b8_level0_col1\" class=\"col_heading level0 col1\" >recall</th>\n",
              "      <th id=\"T_dd8b8_level0_col2\" class=\"col_heading level0 col2\" >f1-score</th>\n",
              "      <th id=\"T_dd8b8_level0_col3\" class=\"col_heading level0 col3\" >support</th>\n",
              "    </tr>\n",
              "  </thead>\n",
              "  <tbody>\n",
              "    <tr>\n",
              "      <th id=\"T_dd8b8_level0_row0\" class=\"row_heading level0 row0\" >0</th>\n",
              "      <td id=\"T_dd8b8_row0_col0\" class=\"data row0 col0\" >0.840000</td>\n",
              "      <td id=\"T_dd8b8_row0_col1\" class=\"data row0 col1\" >0.250000</td>\n",
              "      <td id=\"T_dd8b8_row0_col2\" class=\"data row0 col2\" >0.380000</td>\n",
              "      <td id=\"T_dd8b8_row0_col3\" class=\"data row0 col3\" >642.000000</td>\n",
              "    </tr>\n",
              "    <tr>\n",
              "      <th id=\"T_dd8b8_level0_row1\" class=\"row_heading level0 row1\" >1</th>\n",
              "      <td id=\"T_dd8b8_row1_col0\" class=\"data row1 col0\" >0.870000</td>\n",
              "      <td id=\"T_dd8b8_row1_col1\" class=\"data row1 col1\" >0.990000</td>\n",
              "      <td id=\"T_dd8b8_row1_col2\" class=\"data row1 col2\" >0.930000</td>\n",
              "      <td id=\"T_dd8b8_row1_col3\" class=\"data row1 col3\" >3334.000000</td>\n",
              "    </tr>\n",
              "    <tr>\n",
              "      <th id=\"T_dd8b8_level0_row2\" class=\"row_heading level0 row2\" >accuracy</th>\n",
              "      <td id=\"T_dd8b8_row2_col0\" class=\"data row2 col0\" >0.870000</td>\n",
              "      <td id=\"T_dd8b8_row2_col1\" class=\"data row2 col1\" >0.870000</td>\n",
              "      <td id=\"T_dd8b8_row2_col2\" class=\"data row2 col2\" >0.870000</td>\n",
              "      <td id=\"T_dd8b8_row2_col3\" class=\"data row2 col3\" >0.870000</td>\n",
              "    </tr>\n",
              "    <tr>\n",
              "      <th id=\"T_dd8b8_level0_row3\" class=\"row_heading level0 row3\" >macro avg</th>\n",
              "      <td id=\"T_dd8b8_row3_col0\" class=\"data row3 col0\" >0.860000</td>\n",
              "      <td id=\"T_dd8b8_row3_col1\" class=\"data row3 col1\" >0.620000</td>\n",
              "      <td id=\"T_dd8b8_row3_col2\" class=\"data row3 col2\" >0.660000</td>\n",
              "      <td id=\"T_dd8b8_row3_col3\" class=\"data row3 col3\" >3976.000000</td>\n",
              "    </tr>\n",
              "    <tr>\n",
              "      <th id=\"T_dd8b8_level0_row4\" class=\"row_heading level0 row4\" >weighted avg</th>\n",
              "      <td id=\"T_dd8b8_row4_col0\" class=\"data row4 col0\" >0.870000</td>\n",
              "      <td id=\"T_dd8b8_row4_col1\" class=\"data row4 col1\" >0.870000</td>\n",
              "      <td id=\"T_dd8b8_row4_col2\" class=\"data row4 col2\" >0.840000</td>\n",
              "      <td id=\"T_dd8b8_row4_col3\" class=\"data row4 col3\" >3976.000000</td>\n",
              "    </tr>\n",
              "  </tbody>\n",
              "</table>\n"
            ],
            "text/plain": [
              "<pandas.io.formats.style.Styler at 0x7a3d88b3f1c0>"
            ]
          },
          "execution_count": 16,
          "metadata": {},
          "output_type": "execute_result"
        }
      ],
      "source": [
        "# Predict using training and testing data and display the accuracy, f-1 score, precision for Positive and Negative Sentiment Classifiers\n",
        "ranfrst_predictions = random_forest.predict(tvec.transform(X_test_cleaned))\n",
        "report = classification_report(Y_test,ranfrst_predictions, output_dict=True)\n",
        "data_report = pd.DataFrame(report).transpose().round(2)\n",
        "cm = sns.light_palette(\"red\", as_cmap=True)\n",
        "data_report.style.background_gradient(cmap=cm)"
      ]
    },
    {
      "cell_type": "code",
      "execution_count": null,
      "metadata": {
        "colab": {
          "base_uri": "https://localhost:8080/",
          "height": 472
        },
        "id": "Cw0T7ocWVH3W",
        "outputId": "9d5c6fab-4938-4204-803f-48f13f88c09d"
      },
      "outputs": [
        {
          "data": {
            "image/png": "[encoded data removed]",
            "text/plain": [
              "<Figure size 640x480 with 2 Axes>"
            ]
          },
          "metadata": {},
          "output_type": "display_data"
        }
      ],
      "source": [
        "# confusion matrix\n",
        "ranfrst_predictions=random_forest.predict(tvec.transform(X_test_cleaned))\n",
        "ax= plt.subplot()\n",
        "cm=confusion_matrix(Y_test,ranfrst_predictions)\n",
        "sns.heatmap(cm, annot=True, fmt='g', ax=ax,cmap='Oranges');\n",
        "ax.set_xlabel('Predicted labels');ax.set_ylabel('True labels');\n",
        "ax.set_title('Confusion Matrix');\n",
        "ax.xaxis.set_ticklabels(['negative', 'positive']); ax.yaxis.set_ticklabels(['negative', 'positive']);"
      ]
    },
    {
      "cell_type": "code",
      "execution_count": null,
      "metadata": {
        "colab": {
          "base_uri": "https://localhost:8080/"
        },
        "id": "uGc_03i5VH56",
        "outputId": "3445a6ac-dbb5-401d-9b4f-2380de00c57a"
      },
      "outputs": [
        {
          "name": "stdout",
          "output_type": "stream",
          "text": [
            "[0]\n"
          ]
        }
      ],
      "source": [
        "# testing the model with sample 'Negative' review\n",
        "demo_review = np.array(['Do not buy. Fake Product.'])\n",
        "demo_review_X_test = tvec.transform(demo_review)\n",
        "print(random_forest.predict(demo_review_X_test))\n",
        "\n",
        "# expected output = 0 (Negative)\n",
        "# actual output = 0 (Negative)"
      ]
    },
    {
      "cell_type": "code",
      "execution_count": null,
      "metadata": {
        "colab": {
          "base_uri": "https://localhost:8080/"
        },
        "id": "TMAXtfBQVH80",
        "outputId": "1a4032a7-6dd0-4e02-81b8-5a015ea5d056"
      },
      "outputs": [
        {
          "name": "stdout",
          "output_type": "stream",
          "text": [
            "[1]\n"
          ]
        }
      ],
      "source": [
        "# testing the model with sample 'Positive' review\n",
        "demo_review_2 = np.array(['Original Product. Great Performance.'])\n",
        "demo_review_X_test_2 = tvec.transform(demo_review_2)\n",
        "print(random_forest.predict(demo_review_X_test_2))\n",
        "\n",
        "# expected output = 1 (Positive)\n",
        "# actual output = 1 (Positive)"
      ]
    },
    {
      "cell_type": "markdown",
      "metadata": {
        "id": "EC_P4ZnyVXZ1"
      },
      "source": [
        "Logistic Regression Model"
      ]
    },
    {
      "cell_type": "code",
      "execution_count": null,
      "metadata": {
        "colab": {
          "base_uri": "https://localhost:8080/",
          "height": 74
        },
        "id": "G4sMClEBVH_c",
        "outputId": "f929ce0a-b00b-45d3-9844-a5f36337e5e5"
      },
      "outputs": [
        {
          "data": {
            "text/html": [
              "<style>#sk-container-id-2 {color: black;background-color: white;}#sk-container-id-2 pre{padding: 0;}#sk-container-id-2 div.sk-toggleable {background-color: white;}#sk-container-id-2 label.sk-toggleable__label {cursor: pointer;display: block;width: 100%;margin-bottom: 0;padding: 0.3em;box-sizing: border-box;text-align: center;}#sk-container-id-2 label.sk-toggleable__label-arrow:before {content: \"▸\";float: left;margin-right: 0.25em;color: #696969;}#sk-container-id-2 label.sk-toggleable__label-arrow:hover:before {color: black;}#sk-container-id-2 div.sk-estimator:hover label.sk-toggleable__label-arrow:before {color: black;}#sk-container-id-2 div.sk-toggleable__content {max-height: 0;max-width: 0;overflow: hidden;text-align: left;background-color: #f0f8ff;}#sk-container-id-2 div.sk-toggleable__content pre {margin: 0.2em;color: black;border-radius: 0.25em;background-color: #f0f8ff;}#sk-container-id-2 input.sk-toggleable__control:checked~div.sk-toggleable__content {max-height: 200px;max-width: 100%;overflow: auto;}#sk-container-id-2 input.sk-toggleable__control:checked~label.sk-toggleable__label-arrow:before {content: \"▾\";}#sk-container-id-2 div.sk-estimator input.sk-toggleable__control:checked~label.sk-toggleable__label {background-color: #d4ebff;}#sk-container-id-2 div.sk-label input.sk-toggleable__control:checked~label.sk-toggleable__label {background-color: #d4ebff;}#sk-container-id-2 input.sk-hidden--visually {border: 0;clip: rect(1px 1px 1px 1px);clip: rect(1px, 1px, 1px, 1px);height: 1px;margin: -1px;overflow: hidden;padding: 0;position: absolute;width: 1px;}#sk-container-id-2 div.sk-estimator {font-family: monospace;background-color: #f0f8ff;border: 1px dotted black;border-radius: 0.25em;box-sizing: border-box;margin-bottom: 0.5em;}#sk-container-id-2 div.sk-estimator:hover {background-color: #d4ebff;}#sk-container-id-2 div.sk-parallel-item::after {content: \"\";width: 100%;border-bottom: 1px solid gray;flex-grow: 1;}#sk-container-id-2 div.sk-label:hover label.sk-toggleable__label {background-color: #d4ebff;}#sk-container-id-2 div.sk-serial::before {content: \"\";position: absolute;border-left: 1px solid gray;box-sizing: border-box;top: 0;bottom: 0;left: 50%;z-index: 0;}#sk-container-id-2 div.sk-serial {display: flex;flex-direction: column;align-items: center;background-color: white;padding-right: 0.2em;padding-left: 0.2em;position: relative;}#sk-container-id-2 div.sk-item {position: relative;z-index: 1;}#sk-container-id-2 div.sk-parallel {display: flex;align-items: stretch;justify-content: center;background-color: white;position: relative;}#sk-container-id-2 div.sk-item::before, #sk-container-id-2 div.sk-parallel-item::before {content: \"\";position: absolute;border-left: 1px solid gray;box-sizing: border-box;top: 0;bottom: 0;left: 50%;z-index: -1;}#sk-container-id-2 div.sk-parallel-item {display: flex;flex-direction: column;z-index: 1;position: relative;background-color: white;}#sk-container-id-2 div.sk-parallel-item:first-child::after {align-self: flex-end;width: 50%;}#sk-container-id-2 div.sk-parallel-item:last-child::after {align-self: flex-start;width: 50%;}#sk-container-id-2 div.sk-parallel-item:only-child::after {width: 0;}#sk-container-id-2 div.sk-dashed-wrapped {border: 1px dashed gray;margin: 0 0.4em 0.5em 0.4em;box-sizing: border-box;padding-bottom: 0.4em;background-color: white;}#sk-container-id-2 div.sk-label label {font-family: monospace;font-weight: bold;display: inline-block;line-height: 1.2em;}#sk-container-id-2 div.sk-label-container {text-align: center;}#sk-container-id-2 div.sk-container {/* jupyter's `normalize.less` sets `[hidden] { display: none; }` but bootstrap.min.css set `[hidden] { display: none !important; }` so we also need the `!important` here to be able to override the default hidden behavior on the sphinx rendered scikit-learn.org. See: https://github.com/scikit-learn/scikit-learn/issues/21755 */display: inline-block !important;position: relative;}#sk-container-id-2 div.sk-text-repr-fallback {display: none;}</style><div id=\"sk-container-id-2\" class=\"sk-top-container\"><div class=\"sk-text-repr-fallback\"><pre>LogisticRegression()</pre><b>In a Jupyter environment, please rerun this cell to show the HTML representation or trust the notebook. <br />On GitHub, the HTML representation is unable to render, please try loading this page with nbviewer.org.</b></div><div class=\"sk-container\" hidden><div class=\"sk-item\"><div class=\"sk-estimator sk-toggleable\"><input class=\"sk-toggleable__control sk-hidden--visually\" id=\"sk-estimator-id-2\" type=\"checkbox\" checked><label for=\"sk-estimator-id-2\" class=\"sk-toggleable__label sk-toggleable__label-arrow\">LogisticRegression</label><div class=\"sk-toggleable__content\"><pre>LogisticRegression()</pre></div></div></div></div></div>"
            ],
            "text/plain": [
              "LogisticRegression()"
            ]
          },
          "execution_count": 20,
          "metadata": {},
          "output_type": "execute_result"
        }
      ],
      "source": [
        "# Logistic regression model\n",
        "lr = LogisticRegression()\n",
        "lr.fit(X_train_tvec, Y_train)"
      ]
    },
    {
      "cell_type": "code",
      "execution_count": null,
      "metadata": {
        "colab": {
          "base_uri": "https://localhost:8080/",
          "height": 206
        },
        "id": "a-E1lQnHVws9",
        "outputId": "7a5ee09b-3c99-46f3-a651-23e9a3766583"
      },
      "outputs": [
        {
          "data": {
            "text/html": [
              "<style type=\"text/css\">\n",
              "#T_55842_row0_col0, #T_55842_row0_col1, #T_55842_row0_col2, #T_55842_row2_col3 {\n",
              "  background-color: #f3f0f3;\n",
              "  color: #000000;\n",
              "}\n",
              "#T_55842_row0_col3 {\n",
              "  background-color: #e0c9e0;\n",
              "  color: #000000;\n",
              "}\n",
              "#T_55842_row1_col0, #T_55842_row1_col1, #T_55842_row1_col2, #T_55842_row3_col3, #T_55842_row4_col3 {\n",
              "  background-color: #800080;\n",
              "  color: #f1f1f1;\n",
              "}\n",
              "#T_55842_row1_col3 {\n",
              "  background-color: #922792;\n",
              "  color: #f1f1f1;\n",
              "}\n",
              "#T_55842_row2_col0, #T_55842_row4_col0 {\n",
              "  background-color: #8e1e8e;\n",
              "  color: #f1f1f1;\n",
              "}\n",
              "#T_55842_row2_col1, #T_55842_row4_col1 {\n",
              "  background-color: #942a94;\n",
              "  color: #f1f1f1;\n",
              "}\n",
              "#T_55842_row2_col2, #T_55842_row4_col2 {\n",
              "  background-color: #902290;\n",
              "  color: #f1f1f1;\n",
              "}\n",
              "#T_55842_row3_col0 {\n",
              "  background-color: #ba78ba;\n",
              "  color: #f1f1f1;\n",
              "}\n",
              "#T_55842_row3_col1 {\n",
              "  background-color: #bb7bbb;\n",
              "  color: #f1f1f1;\n",
              "}\n",
              "#T_55842_row3_col2 {\n",
              "  background-color: #b977b9;\n",
              "  color: #f1f1f1;\n",
              "}\n",
              "</style>\n",
              "<table id=\"T_55842\" class=\"dataframe\">\n",
              "  <thead>\n",
              "    <tr>\n",
              "      <th class=\"blank level0\" >&nbsp;</th>\n",
              "      <th id=\"T_55842_level0_col0\" class=\"col_heading level0 col0\" >precision</th>\n",
              "      <th id=\"T_55842_level0_col1\" class=\"col_heading level0 col1\" >recall</th>\n",
              "      <th id=\"T_55842_level0_col2\" class=\"col_heading level0 col2\" >f1-score</th>\n",
              "      <th id=\"T_55842_level0_col3\" class=\"col_heading level0 col3\" >support</th>\n",
              "    </tr>\n",
              "  </thead>\n",
              "  <tbody>\n",
              "    <tr>\n",
              "      <th id=\"T_55842_level0_row0\" class=\"row_heading level0 row0\" >0</th>\n",
              "      <td id=\"T_55842_row0_col0\" class=\"data row0 col0\" >0.760000</td>\n",
              "      <td id=\"T_55842_row0_col1\" class=\"data row0 col1\" >0.580000</td>\n",
              "      <td id=\"T_55842_row0_col2\" class=\"data row0 col2\" >0.660000</td>\n",
              "      <td id=\"T_55842_row0_col3\" class=\"data row0 col3\" >642.000000</td>\n",
              "    </tr>\n",
              "    <tr>\n",
              "      <th id=\"T_55842_level0_row1\" class=\"row_heading level0 row1\" >1</th>\n",
              "      <td id=\"T_55842_row1_col0\" class=\"data row1 col0\" >0.920000</td>\n",
              "      <td id=\"T_55842_row1_col1\" class=\"data row1 col1\" >0.970000</td>\n",
              "      <td id=\"T_55842_row1_col2\" class=\"data row1 col2\" >0.940000</td>\n",
              "      <td id=\"T_55842_row1_col3\" class=\"data row1 col3\" >3334.000000</td>\n",
              "    </tr>\n",
              "    <tr>\n",
              "      <th id=\"T_55842_level0_row2\" class=\"row_heading level0 row2\" >accuracy</th>\n",
              "      <td id=\"T_55842_row2_col0\" class=\"data row2 col0\" >0.900000</td>\n",
              "      <td id=\"T_55842_row2_col1\" class=\"data row2 col1\" >0.900000</td>\n",
              "      <td id=\"T_55842_row2_col2\" class=\"data row2 col2\" >0.900000</td>\n",
              "      <td id=\"T_55842_row2_col3\" class=\"data row2 col3\" >0.900000</td>\n",
              "    </tr>\n",
              "    <tr>\n",
              "      <th id=\"T_55842_level0_row3\" class=\"row_heading level0 row3\" >macro avg</th>\n",
              "      <td id=\"T_55842_row3_col0\" class=\"data row3 col0\" >0.840000</td>\n",
              "      <td id=\"T_55842_row3_col1\" class=\"data row3 col1\" >0.770000</td>\n",
              "      <td id=\"T_55842_row3_col2\" class=\"data row3 col2\" >0.800000</td>\n",
              "      <td id=\"T_55842_row3_col3\" class=\"data row3 col3\" >3976.000000</td>\n",
              "    </tr>\n",
              "    <tr>\n",
              "      <th id=\"T_55842_level0_row4\" class=\"row_heading level0 row4\" >weighted avg</th>\n",
              "      <td id=\"T_55842_row4_col0\" class=\"data row4 col0\" >0.900000</td>\n",
              "      <td id=\"T_55842_row4_col1\" class=\"data row4 col1\" >0.900000</td>\n",
              "      <td id=\"T_55842_row4_col2\" class=\"data row4 col2\" >0.900000</td>\n",
              "      <td id=\"T_55842_row4_col3\" class=\"data row4 col3\" >3976.000000</td>\n",
              "    </tr>\n",
              "  </tbody>\n",
              "</table>\n"
            ],
            "text/plain": [
              "<pandas.io.formats.style.Styler at 0x7a3d883aed10>"
            ]
          },
          "execution_count": 21,
          "metadata": {},
          "output_type": "execute_result"
        }
      ],
      "source": [
        "# Predict using training and testing data and display the accuracy, f-1 score, precision for Positive and Negative Sentiment Classifiers\n",
        "lr_predictions = lr.predict(tvec.transform(X_test_cleaned))\n",
        "report = classification_report(Y_test,lr_predictions, output_dict=True)\n",
        "data_report = pd.DataFrame(report).transpose().round(2)\n",
        "cm = sns.light_palette(\"purple\", as_cmap=True)\n",
        "data_report.style.background_gradient(cmap=cm)"
      ]
    },
    {
      "cell_type": "code",
      "execution_count": null,
      "metadata": {
        "colab": {
          "base_uri": "https://localhost:8080/",
          "height": 472
        },
        "id": "nXlYiE9nV0d4",
        "outputId": "431f08a8-fb6e-423d-ce0d-1e6b5ca4b7a3"
      },
      "outputs": [
        {
          "data": {
            "image/png": "[encoded data removed]",
            "text/plain": [
              "<Figure size 640x480 with 2 Axes>"
            ]
          },
          "metadata": {},
          "output_type": "display_data"
        }
      ],
      "source": [
        "# confusion matrix\n",
        "lr_predictions=lr.predict(tvec.transform(X_test_cleaned))\n",
        "ax= plt.subplot()\n",
        "cm=confusion_matrix(Y_test,lr_predictions)\n",
        "sns.heatmap(cm, annot=True, fmt='g', ax=ax,cmap='Reds');\n",
        "ax.set_xlabel('Predicted labels');ax.set_ylabel('True labels');\n",
        "ax.set_title('Confusion Matrix');\n",
        "ax.xaxis.set_ticklabels(['negative', 'positive']); ax.yaxis.set_ticklabels(['negative', 'positive']);"
      ]
    },
    {
      "cell_type": "code",
      "execution_count": null,
      "metadata": {
        "colab": {
          "base_uri": "https://localhost:8080/"
        },
        "id": "okT8n_9hV5c_",
        "outputId": "02523787-c57d-45c1-c7cc-a836f4c33a48"
      },
      "outputs": [
        {
          "name": "stdout",
          "output_type": "stream",
          "text": [
            "[0]\n"
          ]
        }
      ],
      "source": [
        "# testing the model with sample 'Negative' review\n",
        "demo_review = np.array(['Poor quality. Faulty device.'])\n",
        "demo_review_X_test = tvec.transform(demo_review)\n",
        "print(lr.predict(demo_review_X_test))\n",
        "\n",
        "# expected output = 0 (Negative)\n",
        "# actual output = 0 (Negative)"
      ]
    },
    {
      "cell_type": "code",
      "execution_count": null,
      "metadata": {
        "colab": {
          "base_uri": "https://localhost:8080/"
        },
        "id": "MfLHm9qJV6dW",
        "outputId": "8478442a-af8e-4329-dc13-e3777fdf2a77"
      },
      "outputs": [
        {
          "name": "stdout",
          "output_type": "stream",
          "text": [
            "[1]\n"
          ]
        }
      ],
      "source": [
        "# testing the model with sample 'Positive' review\n",
        "demo_review_2 = np.array(['Great Product.'])\n",
        "demo_review_X_test_2 = tvec.transform(demo_review_2)\n",
        "print(lr.predict(demo_review_X_test_2))\n",
        "\n",
        "# expected output = 1 (Positive)\n",
        "# actual output = 1 (Positive)"
      ]
    },
    {
      "cell_type": "code",
      "execution_count": null,
      "metadata": {
        "colab": {
          "base_uri": "https://localhost:8080/"
        },
        "id": "telEJ_C1a7vq",
        "outputId": "4e2d9a5e-6fb9-4177-9db0-461b56e1c856"
      },
      "outputs": [
        {
          "name": "stdout",
          "output_type": "stream",
          "text": [
            "[0]\n"
          ]
        }
      ],
      "source": [
        "from sklearn.pipeline import Pipeline\n",
        "from sklearn.feature_extraction.text import TfidfVectorizer\n",
        "from sklearn.linear_model import LogisticRegression\n",
        "\n",
        "# Assuming X_train_tvec and Y_train are your training data and labels\n",
        "# Create a pipeline with TF-IDF vectorizer and Logistic Regression\n",
        "pipeline = Pipeline([\n",
        "    ('tfidf', TfidfVectorizer(use_idf=True, strip_accents='ascii')),\n",
        "    ('clf', LogisticRegression())\n",
        "])\n",
        "\n",
        "# Fit the pipeline on the training data\n",
        "pipeline.fit(X_train_cleaned, Y_train)\n",
        "\n",
        "# Now you can use the pipeline for prediction\n",
        "# Example with a sample 'Negative' review\n",
        "predicted_label = pipeline.predict(['Poor quality. Faulty device.'])\n",
        "\n",
        "print(predicted_label)\n"
      ]
    },
    {
      "cell_type": "code",
      "execution_count": null,
      "metadata": {
        "colab": {
          "base_uri": "https://localhost:8080/"
        },
        "id": "PFJbDkSWgzpB",
        "outputId": "ea5286e1-b776-470d-e9e4-ebe2c773fda8"
      },
      "outputs": [
        {
          "data": {
            "text/plain": [
              "array([0])"
            ]
          },
          "execution_count": 26,
          "metadata": {},
          "output_type": "execute_result"
        }
      ],
      "source": [
        "pipeline.predict(['Poor Product'])"
      ]
    },
    {
      "cell_type": "code",
      "execution_count": null,
      "metadata": {
        "id": "iaVohs1th6Ec"
      },
      "outputs": [],
      "source": [
        "# save model\n",
        "import pickle\n",
        "\n",
        "pickle.dump(pipeline, open('Logistic Regression Model.pkl', 'wb'))\n"
      ]
    },
    {
      "cell_type": "code",
      "execution_count": null,
      "metadata": {
        "colab": {
          "base_uri": "https://localhost:8080/"
        },
        "id": "joXItgi1iEB1",
        "outputId": "11d61d33-765a-4095-a330-9ecd1fd3c713"
      },
      "outputs": [
        {
          "name": "stdout",
          "output_type": "stream",
          "text": [
            "Overwriting app.py\n"
          ]
        }
      ],
      "source": [
        "# install streamlit: pip install streamlit\n",
        "# run: streamlit run app.py\n",
        "%%writefile app.py\n",
        "import streamlit as st\n",
        "import pickle\n",
        "import time\n",
        "\n",
        "# load the model\n",
        "model = pickle.load(open('Logistic Regression Model.pkl', 'rb'))\n",
        "\n",
        "st.title('Sentimental Analysis Of Product Based Review')\n",
        "\n",
        "tweet = st.text_input('Enter your Review')\n",
        "\n",
        "submit = st.button('Predict')\n",
        "\n",
        "if submit:\n",
        "   start = time.time()\n",
        "   prediction = model.predict([tweet])\n",
        "   end = time.time()\n",
        "   st.write('Prediction time taken: ', round(end-start, 2), 'seconds')\n",
        "   st.write(prediction[0])\n",
        "   if(prediction[0]==1):\n",
        "    st.write(\"The Given Review is Postive😊.Thank you for your Feedback👍\")\n",
        "   else:\n",
        "    st.write(\"The Given Review is Negative😞.Thank you for your Feedback👍.Will rectify the Product.\")\n"
      ]
    },
    {
      "cell_type": "code",
      "execution_count": null,
      "metadata": {
        "id": "lfWLbcslWiPR"
      },
      "outputs": [],
      "source": [
        "! pip install streamlit -q"
      ]
    },
    {
      "cell_type": "code",
      "execution_count": null,
      "metadata": {
        "colab": {
          "base_uri": "https://localhost:8080/"
        },
        "id": "mNKJa64AWi5d",
        "outputId": "ab9a64fc-7106-4164-a4f4-d8befe5b5508"
      },
      "outputs": [
        {
          "name": "stdout",
          "output_type": "stream",
          "text": [
            "34.139.149.68\n"
          ]
        }
      ],
      "source": [
        "!wget -q -O - ipv4.icanhazip.com"
      ]
    },
    {
      "cell_type": "code",
      "execution_count": null,
      "metadata": {
        "colab": {
          "background_save": true,
          "base_uri": "https://localhost:8080/"
        },
        "id": "XDa-Lm18Wi-b",
        "outputId": "cbe32067-a53d-409f-c476-6fe21adbaac6"
      },
      "outputs": [
        {
          "metadata": {
            "tags": null
          },
          "name": "stdout",
          "output_type": "stream",
          "text": [
            "\n",
            "Collecting usage statistics. To deactivate, set browser.gatherUsageStats to False.\n",
            "\u001b[0m\n",
            "\u001b[0m\n",
            "\u001b[34m\u001b[1m  You can now view your Streamlit app in your browser.\u001b[0m\n",
            "\u001b[0m\n",
            "\u001b[34m  Network URL: \u001b[0m\u001b[1mhttp://172.28.0.12:8501\u001b[0m\n",
            "\u001b[34m  External URL: \u001b[0m\u001b[1mhttp://34.139.149.68:8501\u001b[0m\n",
            "\u001b[0m\n",
            "\u001b[K\u001b[?25hnpx: installed 22 in 1.959s\n",
            "your url is: https://slick-lizards-yawn.loca.lt\n"
          ]
        }
      ],
      "source": [
        "! streamlit run app.py & npx localtunnel --port 8501"
      ]
    }
  ],
  "metadata": {
    "colab": {
      "provenance": [],
      "authorship_tag": "ABX9TyM19YGhOk4syssIY/Tcw9Uo",
      "include_colab_link": true
    },
    "kernelspec": {
      "display_name": "Python 3",
      "name": "python3"
    },
    "language_info": {
      "name": "python"
    }
  },
  "nbformat": 4,
  "nbformat_minor": 0
}